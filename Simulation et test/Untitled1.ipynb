{
 "cells": [
  {
   "cell_type": "code",
   "execution_count": 4,
   "id": "f13659b4-5cfc-4de3-9870-9154592baa21",
   "metadata": {},
   "outputs": [],
   "source": [
    "def dump_data(filename, output):\n",
    "    with open(filename, 'w') as json_file:\n",
    "        json.dump(output, json_file)\n",
    "\n",
    "\n",
    "output = {\n",
    "                'epsx' : {\n",
    "                    'value' : 34534,\n",
    "                    'label' : r'$\\epsilon_x$'\n",
    "                },\n",
    "                'epsy' : {\n",
    "                    'value': 453453,\n",
    "                    'label': r'$\\epsilon_y$'\n",
    "                },\n",
    "                'meanx' : {\n",
    "                    'value': 4534534,\n",
    "                    'label' : r'$\\bar{x}$'\n",
    "                },\n",
    "                'meany' : {\n",
    "                    'value': 4534534,\n",
    "                    'label' : r'$\\bar{y}$'\n",
    "                },\n",
    "                'meanz' : {\n",
    "                    'value': 4534534,\n",
    "                    'label' : r'$\\bar{z}$'\n",
    "                },\n",
    "                'meane' : {\n",
    "                    'value': 4534534,\n",
    "                    'label' : r'$\\bar{e}$'\n",
    "                },\n",
    "                'sigmax' : {\n",
    "                    'value': 534534,\n",
    "                    'label' : r'$\\sigma_x$'\n",
    "                },\n",
    "                'sigmay' : {\n",
    "                    'value': 4534534,\n",
    "                    'label' : r'$\\sigma_y$'\n",
    "                },\n",
    "                'sigmaz' : {\n",
    "                    'value': 4534534,\n",
    "                    'label' : r'$\\sigma_z$'\n",
    "                },\n",
    "                'sigmae' : {\n",
    "                    'value' : 4534534,\n",
    "                    'label' : r'$\\sigma_e$'\n",
    "                },\n",
    "                'inputs' : 453453,\n",
    "                'parameters': 453453,\n",
    "                # 'comment' : self.comments\n",
    "            }\n",
    "            # print(filename)\n",
    "dump_data('/home/salahfd/_outputs/outputs_test.json', output)"
   ]
  },
  {
   "cell_type": "code",
   "execution_count": 11,
   "id": "94bb44ea-3bd3-463f-8535-a8797b308b53",
   "metadata": {},
   "outputs": [
    {
     "name": "stdout",
     "output_type": "stream",
     "text": [
      "250410_133800\n"
     ]
    }
   ],
   "source": [
    "import time\n",
    "\n",
    "temps = time.strftime(\"%y%m%d_%H%M%S\", time.localtime())\n",
    "print(temps)"
   ]
  },
  {
   "cell_type": "code",
   "execution_count": 16,
   "id": "162dee72-9ae6-4e4e-9cc2-f54e05651a28",
   "metadata": {},
   "outputs": [
    {
     "ename": "AttributeError",
     "evalue": "'int' object has no attribute 'mode'",
     "output_type": "error",
     "traceback": [
      "\u001b[0;31m---------------------------------------------------------------------------\u001b[0m",
      "\u001b[0;31mAttributeError\u001b[0m                            Traceback (most recent call last)",
      "Cell \u001b[0;32mIn[16], line 19\u001b[0m\n\u001b[1;32m      1\u001b[0m _inputs \u001b[38;5;241m=\u001b[39m {\n\u001b[1;32m      2\u001b[0m     \u001b[38;5;124m'\u001b[39m\u001b[38;5;124mmode\u001b[39m\u001b[38;5;124m'\u001b[39m : \u001b[38;5;124m'\u001b[39m\u001b[38;5;124mz\u001b[39m\u001b[38;5;124m'\u001b[39m,\n\u001b[1;32m      3\u001b[0m     \u001b[38;5;124m'\u001b[39m\u001b[38;5;124mn_macroparticles\u001b[39m\u001b[38;5;124m'\u001b[39m : \u001b[38;5;28mint\u001b[39m(\u001b[38;5;241m10\u001b[39m), \u001b[38;5;66;03m# number of macroparticles\u001b[39;00m\n\u001b[0;32m   (...)\u001b[0m\n\u001b[1;32m     16\u001b[0m     \u001b[38;5;124m'\u001b[39m\u001b[38;5;124mbunch\u001b[39m\u001b[38;5;124m'\u001b[39m: \u001b[38;5;124m'\u001b[39m\u001b[38;5;124mmatched\u001b[39m\u001b[38;5;124m'\u001b[39m, \u001b[38;5;66;03m# can be 'matched' or 'unmatched'\u001b[39;00m\n\u001b[1;32m     17\u001b[0m     }\n\u001b[1;32m     18\u001b[0m \u001b[38;5;28;01mfor\u001b[39;00m key, value \u001b[38;5;129;01min\u001b[39;00m _inputs\u001b[38;5;241m.\u001b[39mitems():\n\u001b[0;32m---> 19\u001b[0m     \u001b[38;5;28msetattr\u001b[39m(\u001b[38;5;28mself\u001b[39m, key, value)\n\u001b[1;32m     20\u001b[0m     \u001b[38;5;28mprint\u001b[39m(key, value)\n",
      "\u001b[0;31mAttributeError\u001b[0m: 'int' object has no attribute 'mode'"
     ]
    }
   ],
   "source": []
  },
  {
   "cell_type": "code",
   "execution_count": null,
   "id": "f68b4537-ff2b-4f95-a0d8-1acb54d85a07",
   "metadata": {},
   "outputs": [],
   "source": []
  }
 ],
 "metadata": {
  "kernelspec": {
   "display_name": "Python 3 (ipykernel)",
   "language": "python",
   "name": "python3"
  },
  "language_info": {
   "codemirror_mode": {
    "name": "ipython",
    "version": 3
   },
   "file_extension": ".py",
   "mimetype": "text/x-python",
   "name": "python",
   "nbconvert_exporter": "python",
   "pygments_lexer": "ipython3",
   "version": "3.13.2"
  }
 },
 "nbformat": 4,
 "nbformat_minor": 5
}
