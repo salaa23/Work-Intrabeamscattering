{
 "cells": [
  {
   "cell_type": "code",
   "execution_count": 3,
   "id": "ad7ac936-6fc5-439c-8867-7e9dcdbbebdf",
   "metadata": {},
   "outputs": [
    {
     "data": {
      "application/vnd.jupyter.widget-view+json": {
       "model_id": "542b00c5db9545a8a3e8576822df6e3d",
       "version_major": 2,
       "version_minor": 0
      },
      "text/plain": [
       "Loading line from dict:   0%|          | 0/38786 [00:00<?, ?it/s]"
      ]
     },
     "metadata": {},
     "output_type": "display_data"
    },
    {
     "name": "stdout",
     "output_type": "stream",
     "text": [
      "Done loading line from dict.           \n",
      "Compiling ContextCpu kernels...\n",
      "Done compiling ContextCpu kernels.\n",
      "Compiling ContextCpu kernels...\n",
      "Done compiling ContextCpu kernels.\n",
      "Compiling ContextCpu kernels...\n",
      "Done compiling ContextCpu kernels.\n",
      "The line has collective elements.\n",
      "In the twiss computation collective elements are replaced by drifts\n",
      "Compiling ContextCpu kernels...\n",
      "Done compiling ContextCpu kernels.\n"
     ]
    },
    {
     "name": "stderr",
     "output_type": "stream",
     "text": [
      "Ignoring collective elements in particles generation.\n"
     ]
    },
    {
     "ename": "ValueError",
     "evalue": "Invalid n3",
     "output_type": "error",
     "traceback": [
      "\u001b[31m---------------------------------------------------------------------------\u001b[39m",
      "\u001b[31mValueError\u001b[39m                                Traceback (most recent call last)",
      "\u001b[36mCell\u001b[39m\u001b[36m \u001b[39m\u001b[32mIn[3]\u001b[39m\u001b[32m, line 45\u001b[39m\n\u001b[32m     42\u001b[39m nturns: \u001b[38;5;28mint\u001b[39m = \u001b[32m2000\u001b[39m\n\u001b[32m     43\u001b[39m epsx, epsy, sigd, bl = [], [], [], []\n\u001b[32m---> \u001b[39m\u001b[32m45\u001b[39m particles = \u001b[43mxp\u001b[49m\u001b[43m.\u001b[49m\u001b[43mgenerate_matched_gaussian_bunch\u001b[49m\u001b[43m(\u001b[49m\n\u001b[32m     46\u001b[39m \u001b[43m    \u001b[49m\u001b[43mnum_particles\u001b[49m\u001b[43m=\u001b[49m\u001b[32;43m2500\u001b[39;49m\u001b[43m,\u001b[49m\n\u001b[32m     47\u001b[39m \u001b[43m    \u001b[49m\u001b[43mtotal_intensity_particles\u001b[49m\u001b[43m=\u001b[49m\u001b[38;5;28;43mint\u001b[39;49m\u001b[43m(\u001b[49m\u001b[32;43m4.5e9\u001b[39;49m\u001b[43m)\u001b[49m\u001b[43m,\u001b[49m\n\u001b[32m     48\u001b[39m \u001b[43m    \u001b[49m\u001b[43mnemitt_x\u001b[49m\u001b[43m=\u001b[49m\u001b[32;43m5.66e-7\u001b[39;49m\u001b[43m,\u001b[49m\n\u001b[32m     49\u001b[39m \u001b[43m    \u001b[49m\u001b[43mnemitt_y\u001b[49m\u001b[43m=\u001b[49m\u001b[32;43m3.7e-9\u001b[39;49m\u001b[43m,\u001b[49m\n\u001b[32m     50\u001b[39m \u001b[43m    \u001b[49m\u001b[43msigma_z\u001b[49m\u001b[43m=\u001b[49m\u001b[32;43m1.58e-3\u001b[39;49m\u001b[43m,\u001b[49m\n\u001b[32m     51\u001b[39m \u001b[43m    \u001b[49m\u001b[43mline\u001b[49m\u001b[43m=\u001b[49m\u001b[43mline\u001b[49m\u001b[43m,\u001b[49m\n\u001b[32m     52\u001b[39m \u001b[43m    \u001b[49m\u001b[43m_context\u001b[49m\u001b[43m=\u001b[49m\u001b[43mcontext\u001b[49m\u001b[43m,\u001b[49m\n\u001b[32m     53\u001b[39m \u001b[43m)\u001b[49m\n\u001b[32m     55\u001b[39m \u001b[38;5;28;01mfor\u001b[39;00m turn \u001b[38;5;129;01min\u001b[39;00m \u001b[38;5;28mrange\u001b[39m(nturns):\n\u001b[32m     56\u001b[39m     line.track(particles, num_turns=\u001b[32m1\u001b[39m)\n",
      "\u001b[36mFile \u001b[39m\u001b[32m~/anaconda3/envs/acc/lib/python3.13/site-packages/xpart/matched_gaussian.py:87\u001b[39m, in \u001b[36mgenerate_matched_gaussian_bunch\u001b[39m\u001b[34m(num_particles, nemitt_x, nemitt_y, sigma_z, total_intensity_particles, particle_on_co, R_matrix, circumference, momentum_compaction_factor, rf_harmonic, rf_voltage, rf_phase, energy_ref_increment, tracker, line, particle_ref, engine, return_matcher, _context, _buffer, _offset, **kwargs)\u001b[39m\n\u001b[32m     83\u001b[39m     \u001b[38;5;28;01melse\u001b[39;00m:\n\u001b[32m     84\u001b[39m         \u001b[38;5;28;01mraise\u001b[39;00m \u001b[38;5;167;01mValueError\u001b[39;00m(\n\u001b[32m     85\u001b[39m             \u001b[33m\"\u001b[39m\u001b[33m`line`, `particle_ref` or `particle_on_co` must be provided!\u001b[39m\u001b[33m\"\u001b[39m)\n\u001b[32m---> \u001b[39m\u001b[32m87\u001b[39m zeta, delta, matcher = \u001b[43mgenerate_longitudinal_coordinates\u001b[49m\u001b[43m(\u001b[49m\n\u001b[32m     88\u001b[39m \u001b[43m    \u001b[49m\u001b[43mdistribution\u001b[49m\u001b[43m=\u001b[49m\u001b[33;43m'\u001b[39;49m\u001b[33;43mgaussian\u001b[39;49m\u001b[33;43m'\u001b[39;49m\u001b[43m,\u001b[49m\n\u001b[32m     89\u001b[39m \u001b[43m    \u001b[49m\u001b[43mnum_particles\u001b[49m\u001b[43m=\u001b[49m\u001b[43mnum_particles\u001b[49m\u001b[43m,\u001b[49m\n\u001b[32m     90\u001b[39m \u001b[43m    \u001b[49m\u001b[43mparticle_ref\u001b[49m\u001b[43m=\u001b[49m\u001b[43m(\u001b[49m\u001b[43mparticle_ref\u001b[49m\u001b[43m \u001b[49m\u001b[38;5;28;43;01mif\u001b[39;49;00m\u001b[43m \u001b[49m\u001b[43mparticle_ref\u001b[49m\u001b[43m \u001b[49m\u001b[38;5;129;43;01mis\u001b[39;49;00m\u001b[43m \u001b[49m\u001b[38;5;129;43;01mnot\u001b[39;49;00m\u001b[43m \u001b[49m\u001b[38;5;28;43;01mNone\u001b[39;49;00m\n\u001b[32m     91\u001b[39m \u001b[43m                  \u001b[49m\u001b[38;5;28;43;01melse\u001b[39;49;00m\u001b[43m \u001b[49m\u001b[43mparticle_on_co\u001b[49m\u001b[43m)\u001b[49m\u001b[43m,\u001b[49m\n\u001b[32m     92\u001b[39m \u001b[43m    \u001b[49m\u001b[43mline\u001b[49m\u001b[43m=\u001b[49m\u001b[43mline\u001b[49m\u001b[43m,\u001b[49m\n\u001b[32m     93\u001b[39m \u001b[43m    \u001b[49m\u001b[43mcircumference\u001b[49m\u001b[43m=\u001b[49m\u001b[43mcircumference\u001b[49m\u001b[43m,\u001b[49m\n\u001b[32m     94\u001b[39m \u001b[43m    \u001b[49m\u001b[43mmomentum_compaction_factor\u001b[49m\u001b[43m=\u001b[49m\u001b[43mmomentum_compaction_factor\u001b[49m\u001b[43m,\u001b[49m\n\u001b[32m     95\u001b[39m \u001b[43m    \u001b[49m\u001b[43mrf_harmonic\u001b[49m\u001b[43m=\u001b[49m\u001b[43mrf_harmonic\u001b[49m\u001b[43m,\u001b[49m\n\u001b[32m     96\u001b[39m \u001b[43m    \u001b[49m\u001b[43mrf_voltage\u001b[49m\u001b[43m=\u001b[49m\u001b[43mrf_voltage\u001b[49m\u001b[43m,\u001b[49m\n\u001b[32m     97\u001b[39m \u001b[43m    \u001b[49m\u001b[43mrf_phase\u001b[49m\u001b[43m=\u001b[49m\u001b[43mrf_phase\u001b[49m\u001b[43m,\u001b[49m\n\u001b[32m     98\u001b[39m \u001b[43m    \u001b[49m\u001b[43menergy_ref_increment\u001b[49m\u001b[43m=\u001b[49m\u001b[43menergy_ref_increment\u001b[49m\u001b[43m,\u001b[49m\n\u001b[32m     99\u001b[39m \u001b[43m    \u001b[49m\u001b[43msigma_z\u001b[49m\u001b[43m=\u001b[49m\u001b[43msigma_z\u001b[49m\u001b[43m,\u001b[49m\n\u001b[32m    100\u001b[39m \u001b[43m    \u001b[49m\u001b[43mengine\u001b[49m\u001b[43m=\u001b[49m\u001b[43mengine\u001b[49m\u001b[43m,\u001b[49m\n\u001b[32m    101\u001b[39m \u001b[43m    \u001b[49m\u001b[43mreturn_matcher\u001b[49m\u001b[43m=\u001b[49m\u001b[38;5;28;43;01mTrue\u001b[39;49;00m\u001b[43m,\u001b[49m\n\u001b[32m    102\u001b[39m \u001b[43m    \u001b[49m\u001b[43m*\u001b[49m\u001b[43m*\u001b[49m\u001b[43mkwargs\u001b[49m\u001b[43m)\u001b[49m\n\u001b[32m    104\u001b[39m \u001b[38;5;28;01massert\u001b[39;00m \u001b[38;5;28mlen\u001b[39m(zeta) == \u001b[38;5;28mlen\u001b[39m(delta) == num_particles\n\u001b[32m    106\u001b[39m x_norm = np.random.normal(size=num_particles)\n",
      "\u001b[36mFile \u001b[39m\u001b[32m~/anaconda3/envs/acc/lib/python3.13/site-packages/xpart/longitudinal/generate_longitudinal.py:191\u001b[39m, in \u001b[36mgenerate_longitudinal_coordinates\u001b[39m\u001b[34m(line, num_particles, distribution, sigma_z, engine, return_matcher, particle_ref, mass0, q0, gamma0, circumference, momentum_compaction_factor, rf_harmonic, rf_voltage, rf_phase, energy_ref_increment, tracker, m, q, _only_bucket, **kwargs)\u001b[39m\n\u001b[32m    189\u001b[39m         particle_ref = line.particle_ref\n\u001b[32m    190\u001b[39m     \u001b[38;5;28;01massert\u001b[39;00m particle_ref \u001b[38;5;129;01mis\u001b[39;00m \u001b[38;5;129;01mnot\u001b[39;00m \u001b[38;5;28;01mNone\u001b[39;00m\n\u001b[32m--> \u001b[39m\u001b[32m191\u001b[39m     dct = \u001b[43m_characterize_line\u001b[49m\u001b[43m(\u001b[49m\u001b[43mline\u001b[49m\u001b[43m,\u001b[49m\u001b[43m \u001b[49m\u001b[43mparticle_ref\u001b[49m\u001b[43m,\u001b[49m\u001b[43m \u001b[49m\u001b[43m*\u001b[49m\u001b[43m*\u001b[49m\u001b[43mkwargs\u001b[49m\u001b[43m)\u001b[49m\n\u001b[32m    193\u001b[39m \u001b[38;5;28;01massert\u001b[39;00m particle_ref \u001b[38;5;129;01mis\u001b[39;00m \u001b[38;5;129;01mnot\u001b[39;00m \u001b[38;5;28;01mNone\u001b[39;00m\n\u001b[32m    195\u001b[39m \u001b[38;5;28;01mif\u001b[39;00m mass0 \u001b[38;5;129;01mis\u001b[39;00m \u001b[38;5;28;01mNone\u001b[39;00m:\n",
      "\u001b[36mFile \u001b[39m\u001b[32m~/anaconda3/envs/acc/lib/python3.13/site-packages/xpart/longitudinal/generate_longitudinal.py:87\u001b[39m, in \u001b[36m_characterize_line\u001b[39m\u001b[34m(line, particle_ref, **kwargs)\u001b[39m\n\u001b[32m     84\u001b[39m \u001b[38;5;28;01mif\u001b[39;00m found_nonlinear_longitudinal:\n\u001b[32m     85\u001b[39m     \u001b[38;5;28;01massert\u001b[39;00m \u001b[38;5;28mlen\u001b[39m(freq_list) > \u001b[32m0\u001b[39m\n\u001b[32m---> \u001b[39m\u001b[32m87\u001b[39m tw = \u001b[43mline\u001b[49m\u001b[43m.\u001b[49m\u001b[43mtwiss\u001b[49m\u001b[43m(\u001b[49m\n\u001b[32m     88\u001b[39m \u001b[43m    \u001b[49m\u001b[43mparticle_ref\u001b[49m\u001b[43m=\u001b[49m\u001b[43mparticle_ref\u001b[49m\u001b[43m,\u001b[49m\u001b[43m \u001b[49m\u001b[43m*\u001b[49m\u001b[43m*\u001b[49m\u001b[43mkwargs\u001b[49m\u001b[43m)\u001b[49m\n\u001b[32m     90\u001b[39m p0c_increase_from_energy_program = \u001b[38;5;28;01mNone\u001b[39;00m\n\u001b[32m     91\u001b[39m \u001b[38;5;28;01mif\u001b[39;00m line.energy_program \u001b[38;5;129;01mis\u001b[39;00m \u001b[38;5;129;01mnot\u001b[39;00m \u001b[38;5;28;01mNone\u001b[39;00m:\n",
      "\u001b[36mFile \u001b[39m\u001b[32m~/anaconda3/envs/acc/lib/python3.13/site-packages/xtrack/line.py:1325\u001b[39m, in \u001b[36mLine.twiss\u001b[39m\u001b[34m(self, particle_ref, method, particle_on_co, R_matrix, W_matrix, delta0, zeta0, r_sigma, nemitt_x, nemitt_y, delta_disp, delta_chrom, zeta_disp, co_guess, steps_r_matrix, co_search_settings, at_elements, at_s, continue_on_closed_orbit_error, freeze_longitudinal, freeze_energy, values_at_element_exit, radiation_method, eneloss_and_damping, radiation_integrals, start, end, init, num_turns, skip_global_quantities, matrix_responsiveness_tol, matrix_stability_tol, symplectify, reverse, use_full_inverse, strengths, hide_thin_groups, search_for_t_rev, num_turns_search_t_rev, only_twiss_init, only_markers, only_orbit, compute_R_element_by_element, compute_lattice_functions, compute_chromatic_properties, init_at, x, px, y, py, zeta, delta, betx, alfx, bety, alfy, bets, dx, dpx, dy, dpy, dzeta, mux, muy, muzeta, ax_chrom, bx_chrom, ay_chrom, by_chrom, ddx, ddpx, ddy, ddpy, zero_at, co_search_at, include_collective, _continue_if_lost, _keep_tracking_data, _keep_initial_particles, _initial_particles, _ebe_monitor, ele_start, ele_stop, ele_init, twiss_init)\u001b[39m\n\u001b[32m   1322\u001b[39m         tw_kwargs[kk] = vv\n\u001b[32m   1324\u001b[39m tw_kwargs.pop(\u001b[33m'\u001b[39m\u001b[33mself\u001b[39m\u001b[33m'\u001b[39m)\n\u001b[32m-> \u001b[39m\u001b[32m1325\u001b[39m \u001b[38;5;28;01mreturn\u001b[39;00m \u001b[43mtwiss_line\u001b[49m\u001b[43m(\u001b[49m\u001b[38;5;28;43mself\u001b[39;49m\u001b[43m,\u001b[49m\u001b[43m \u001b[49m\u001b[43m*\u001b[49m\u001b[43m*\u001b[49m\u001b[43mtw_kwargs\u001b[49m\u001b[43m)\u001b[49m\n",
      "\u001b[36mFile \u001b[39m\u001b[32m~/anaconda3/envs/acc/lib/python3.13/site-packages/xtrack/twiss.py:625\u001b[39m, in \u001b[36mtwiss_line\u001b[39m\u001b[34m(line, particle_ref, method, particle_on_co, R_matrix, W_matrix, delta0, zeta0, r_sigma, nemitt_x, nemitt_y, delta_disp, delta_chrom, zeta_disp, co_guess, steps_r_matrix, co_search_settings, at_elements, at_s, continue_on_closed_orbit_error, freeze_longitudinal, freeze_energy, values_at_element_exit, radiation_method, eneloss_and_damping, radiation_integrals, start, end, init, num_turns, skip_global_quantities, matrix_responsiveness_tol, matrix_stability_tol, symplectify, reverse, use_full_inverse, strengths, hide_thin_groups, search_for_t_rev, num_turns_search_t_rev, only_twiss_init, only_orbit, compute_R_element_by_element, compute_lattice_functions, compute_chromatic_properties, init_at, x, px, y, py, zeta, delta, betx, alfx, bety, alfy, bets, dx, dpx, dy, dpy, dzeta, mux, muy, muzeta, ax_chrom, bx_chrom, ay_chrom, by_chrom, ddx, ddpx, ddy, ddpy, zero_at, co_search_at, include_collective, _continue_if_lost, _keep_tracking_data, _keep_initial_particles, _initial_particles, _ebe_monitor, only_markers)\u001b[39m\n\u001b[32m    621\u001b[39m     \u001b[38;5;28;01massert\u001b[39;00m \u001b[38;5;129;01mnot\u001b[39;00m _initial_particles\n\u001b[32m    623\u001b[39m     steps_r_matrix = _complete_steps_r_matrix_with_default(steps_r_matrix)\n\u001b[32m--> \u001b[39m\u001b[32m625\u001b[39m     init, R_matrix, steps_r_matrix, eigenvalues, Rot, RR_ebe = \u001b[43m_find_periodic_solution\u001b[49m\u001b[43m(\u001b[49m\n\u001b[32m    626\u001b[39m \u001b[43m        \u001b[49m\u001b[43mline\u001b[49m\u001b[43m=\u001b[49m\u001b[43mline\u001b[49m\u001b[43m,\u001b[49m\u001b[43m \u001b[49m\u001b[43mparticle_on_co\u001b[49m\u001b[43m=\u001b[49m\u001b[43mparticle_on_co\u001b[49m\u001b[43m,\u001b[49m\n\u001b[32m    627\u001b[39m \u001b[43m        \u001b[49m\u001b[43mparticle_ref\u001b[49m\u001b[43m=\u001b[49m\u001b[43mparticle_ref\u001b[49m\u001b[43m,\u001b[49m\u001b[43m \u001b[49m\u001b[43mmethod\u001b[49m\u001b[43m=\u001b[49m\u001b[43mmethod\u001b[49m\u001b[43m,\u001b[49m\n\u001b[32m    628\u001b[39m \u001b[43m        \u001b[49m\u001b[43mco_search_settings\u001b[49m\u001b[43m=\u001b[49m\u001b[43mco_search_settings\u001b[49m\u001b[43m,\u001b[49m\n\u001b[32m    629\u001b[39m \u001b[43m        \u001b[49m\u001b[43mcontinue_on_closed_orbit_error\u001b[49m\u001b[43m=\u001b[49m\u001b[43mcontinue_on_closed_orbit_error\u001b[49m\u001b[43m,\u001b[49m\n\u001b[32m    630\u001b[39m \u001b[43m        \u001b[49m\u001b[43mdelta0\u001b[49m\u001b[43m=\u001b[49m\u001b[43mdelta0\u001b[49m\u001b[43m,\u001b[49m\u001b[43m \u001b[49m\u001b[43mzeta0\u001b[49m\u001b[43m=\u001b[49m\u001b[43mzeta0\u001b[49m\u001b[43m,\u001b[49m\u001b[43m \u001b[49m\u001b[43msteps_r_matrix\u001b[49m\u001b[43m=\u001b[49m\u001b[43msteps_r_matrix\u001b[49m\u001b[43m,\u001b[49m\n\u001b[32m    631\u001b[39m \u001b[43m        \u001b[49m\u001b[43mW_matrix\u001b[49m\u001b[43m=\u001b[49m\u001b[43mW_matrix\u001b[49m\u001b[43m,\u001b[49m\u001b[43m \u001b[49m\u001b[43mR_matrix\u001b[49m\u001b[43m=\u001b[49m\u001b[43mR_matrix\u001b[49m\u001b[43m,\u001b[49m\n\u001b[32m    632\u001b[39m \u001b[43m        \u001b[49m\u001b[43mco_guess\u001b[49m\u001b[43m=\u001b[49m\u001b[43mco_guess\u001b[49m\u001b[43m,\u001b[49m\n\u001b[32m    633\u001b[39m \u001b[43m        \u001b[49m\u001b[43mdelta_disp\u001b[49m\u001b[43m=\u001b[49m\u001b[43mdelta_disp\u001b[49m\u001b[43m,\u001b[49m\u001b[43m \u001b[49m\u001b[43msymplectify\u001b[49m\u001b[43m=\u001b[49m\u001b[43msymplectify\u001b[49m\u001b[43m,\u001b[49m\n\u001b[32m    634\u001b[39m \u001b[43m        \u001b[49m\u001b[43mmatrix_responsiveness_tol\u001b[49m\u001b[43m=\u001b[49m\u001b[43mmatrix_responsiveness_tol\u001b[49m\u001b[43m,\u001b[49m\n\u001b[32m    635\u001b[39m \u001b[43m        \u001b[49m\u001b[43mmatrix_stability_tol\u001b[49m\u001b[43m=\u001b[49m\u001b[43mmatrix_stability_tol\u001b[49m\u001b[43m,\u001b[49m\n\u001b[32m    636\u001b[39m \u001b[43m        \u001b[49m\u001b[43mstart\u001b[49m\u001b[43m=\u001b[49m\u001b[43mstart\u001b[49m\u001b[43m,\u001b[49m\u001b[43m \u001b[49m\u001b[43mend\u001b[49m\u001b[43m=\u001b[49m\u001b[43mend\u001b[49m\u001b[43m,\u001b[49m\n\u001b[32m    637\u001b[39m \u001b[43m        \u001b[49m\u001b[43mnum_turns\u001b[49m\u001b[43m=\u001b[49m\u001b[43mnum_turns\u001b[49m\u001b[43m,\u001b[49m\n\u001b[32m    638\u001b[39m \u001b[43m        \u001b[49m\u001b[43mco_search_at\u001b[49m\u001b[43m=\u001b[49m\u001b[43mco_search_at\u001b[49m\u001b[43m,\u001b[49m\n\u001b[32m    639\u001b[39m \u001b[43m        \u001b[49m\u001b[43msearch_for_t_rev\u001b[49m\u001b[43m=\u001b[49m\u001b[43msearch_for_t_rev\u001b[49m\u001b[43m,\u001b[49m\n\u001b[32m    640\u001b[39m \u001b[43m        \u001b[49m\u001b[43mnum_turns_search_t_rev\u001b[49m\u001b[43m=\u001b[49m\u001b[43mnum_turns_search_t_rev\u001b[49m\u001b[43m,\u001b[49m\n\u001b[32m    641\u001b[39m \u001b[43m        \u001b[49m\u001b[43mnemitt_x\u001b[49m\u001b[43m=\u001b[49m\u001b[43mnemitt_x\u001b[49m\u001b[43m,\u001b[49m\u001b[43m \u001b[49m\u001b[43mnemitt_y\u001b[49m\u001b[43m=\u001b[49m\u001b[43mnemitt_y\u001b[49m\u001b[43m,\u001b[49m\u001b[43m \u001b[49m\u001b[43mr_sigma\u001b[49m\u001b[43m=\u001b[49m\u001b[43mr_sigma\u001b[49m\u001b[43m,\u001b[49m\n\u001b[32m    642\u001b[39m \u001b[43m        \u001b[49m\u001b[43mcompute_R_element_by_element\u001b[49m\u001b[43m=\u001b[49m\u001b[43mcompute_R_element_by_element\u001b[49m\u001b[43m,\u001b[49m\n\u001b[32m    643\u001b[39m \u001b[43m        \u001b[49m\u001b[43monly_markers\u001b[49m\u001b[43m=\u001b[49m\u001b[43monly_markers\u001b[49m\u001b[43m,\u001b[49m\n\u001b[32m    644\u001b[39m \u001b[43m        \u001b[49m\u001b[43monly_orbit\u001b[49m\u001b[43m=\u001b[49m\u001b[43monly_orbit\u001b[49m\u001b[43m,\u001b[49m\n\u001b[32m    645\u001b[39m \u001b[43m        \u001b[49m\u001b[43mperiodic_mode\u001b[49m\u001b[43m=\u001b[49m\u001b[43mperiodic_mode\u001b[49m\u001b[43m,\u001b[49m\n\u001b[32m    646\u001b[39m \u001b[43m        \u001b[49m\u001b[43minclude_collective\u001b[49m\u001b[43m=\u001b[49m\u001b[43minclude_collective\u001b[49m\u001b[43m,\u001b[49m\n\u001b[32m    647\u001b[39m \u001b[43m        \u001b[49m\u001b[43m)\u001b[49m\n\u001b[32m    648\u001b[39m \u001b[38;5;28;01melse\u001b[39;00m:\n\u001b[32m    649\u001b[39m     \u001b[38;5;66;03m# force\u001b[39;00m\n\u001b[32m    650\u001b[39m     skip_global_quantities = \u001b[38;5;28;01mTrue\u001b[39;00m\n",
      "\u001b[36mFile \u001b[39m\u001b[32m~/anaconda3/envs/acc/lib/python3.13/site-packages/xtrack/twiss.py:1903\u001b[39m, in \u001b[36m_find_periodic_solution\u001b[39m\u001b[34m(line, particle_on_co, particle_ref, method, co_search_settings, continue_on_closed_orbit_error, delta0, zeta0, steps_r_matrix, W_matrix, R_matrix, co_guess, delta_disp, symplectify, matrix_responsiveness_tol, matrix_stability_tol, nemitt_x, nemitt_y, r_sigma, start, end, num_turns, co_search_at, search_for_t_rev, num_turns_search_t_rev, compute_R_element_by_element, only_markers, only_orbit, periodic_mode, include_collective)\u001b[39m\n\u001b[32m   1899\u001b[39m \u001b[38;5;28;01mif\u001b[39;00m matrix_responsiveness_tol \u001b[38;5;129;01mis\u001b[39;00m \u001b[38;5;129;01mnot\u001b[39;00m \u001b[38;5;28;01mNone\u001b[39;00m:\n\u001b[32m   1900\u001b[39m     lnf._assert_matrix_responsiveness(RR,\n\u001b[32m   1901\u001b[39m         matrix_responsiveness_tol, only_4d=(method == \u001b[33m'\u001b[39m\u001b[33m4d\u001b[39m\u001b[33m'\u001b[39m))\n\u001b[32m-> \u001b[39m\u001b[32m1903\u001b[39m W, _, Rot, eigenvalues = \u001b[43mlnf\u001b[49m\u001b[43m.\u001b[49m\u001b[43mcompute_linear_normal_form\u001b[49m\u001b[43m(\u001b[49m\n\u001b[32m   1904\u001b[39m \u001b[43m            \u001b[49m\u001b[43mRR\u001b[49m\u001b[43m,\u001b[49m\u001b[43m \u001b[49m\u001b[43monly_4d_block\u001b[49m\u001b[43m=\u001b[49m\u001b[43m(\u001b[49m\u001b[43mmethod\u001b[49m\u001b[43m \u001b[49m\u001b[43m==\u001b[49m\u001b[43m \u001b[49m\u001b[33;43m'\u001b[39;49m\u001b[33;43m4d\u001b[39;49m\u001b[33;43m'\u001b[39;49m\u001b[43m)\u001b[49m\u001b[43m,\u001b[49m\n\u001b[32m   1905\u001b[39m \u001b[43m            \u001b[49m\u001b[43msymplectify\u001b[49m\u001b[43m=\u001b[49m\u001b[43msymplectify\u001b[49m\u001b[43m,\u001b[49m\n\u001b[32m   1906\u001b[39m \u001b[43m            \u001b[49m\u001b[43mresponsiveness_tol\u001b[49m\u001b[43m=\u001b[49m\u001b[38;5;28;43;01mNone\u001b[39;49;00m\u001b[43m,\u001b[49m\n\u001b[32m   1907\u001b[39m \u001b[43m            \u001b[49m\u001b[43mstability_tol\u001b[49m\u001b[43m=\u001b[49m\u001b[38;5;28;43;01mNone\u001b[39;49;00m\u001b[43m)\u001b[49m\n\u001b[32m   1909\u001b[39m \u001b[38;5;66;03m# Estimate beam size (betatron part)\u001b[39;00m\n\u001b[32m   1910\u001b[39m gemitt_x = nemitt_x/part_on_co._xobject.beta0[\u001b[32m0\u001b[39m]/part_on_co._xobject.gamma0[\u001b[32m0\u001b[39m]\n",
      "\u001b[36mFile \u001b[39m\u001b[32m~/anaconda3/envs/acc/lib/python3.13/site-packages/xtrack/linear_normal_form.py:194\u001b[39m, in \u001b[36mcompute_linear_normal_form\u001b[39m\u001b[34m(M, symplectify, only_4d_block, responsiveness_tol, stability_tol)\u001b[39m\n\u001b[32m    192\u001b[39m     \u001b[38;5;28;01mraise\u001b[39;00m \u001b[38;5;167;01mValueError\u001b[39;00m(\u001b[33m'\u001b[39m\u001b[33mInvalid n2\u001b[39m\u001b[33m'\u001b[39m)\n\u001b[32m    193\u001b[39m \u001b[38;5;28;01mif\u001b[39;00m \u001b[38;5;129;01mnot\u001b[39;00m n3_inv_sq > \u001b[32m0\u001b[39m:\n\u001b[32m--> \u001b[39m\u001b[32m194\u001b[39m     \u001b[38;5;28;01mraise\u001b[39;00m \u001b[38;5;167;01mValueError\u001b[39;00m(\u001b[33m'\u001b[39m\u001b[33mInvalid n3\u001b[39m\u001b[33m'\u001b[39m)\n\u001b[32m    196\u001b[39m n1 = \u001b[32m1.\u001b[39m/np.sqrt(n1_inv_sq)\n\u001b[32m    197\u001b[39m n2 = \u001b[32m1.\u001b[39m/np.sqrt(n2_inv_sq)\n",
      "\u001b[31mValueError\u001b[39m: Invalid n3"
     ]
    }
   ],
   "source": [
    "# copyright ################################# #\n",
    "# This file is part of the Xfields Package.   #\n",
    "# Copyright (c) CERN, 2021.                   #\n",
    "# ########################################### #\n",
    "import xfields as xf\n",
    "import xobjects as xo\n",
    "import xpart as xp\n",
    "import xtrack as xt\n",
    "from xfields.ibs._formulary import _gemitt_x, _gemitt_y, _sigma_delta, _bunch_length\n",
    "import numpy as np\n",
    "import matplotlib.pyplot as plt\n",
    "\n",
    "# context = xo.ContextCupy()\n",
    "context = xo.ContextCpu(omp_num_threads=\"auto\")\n",
    "\n",
    "##########################\n",
    "# Load xt.Line from file #\n",
    "##########################\n",
    "\n",
    "fname_line_particles = \"line_and_particle.json\"\n",
    "line: xt.Line = xt.Line.from_json(fname_line_particles)\n",
    "line.build_tracker(_context=context)\n",
    "cavities = [element for element in line.elements if isinstance(element, xt.Cavity)]\n",
    "for cavity in cavities:\n",
    "    cavity.lag = 180\n",
    "tw = line.twiss(method=\"4d\")\n",
    "\n",
    "#######################################\n",
    "# Create and Install IBS Kick Element #\n",
    "#######################################\n",
    "\n",
    "ibs_kick = xf.IBSKineticKick(num_slices=50)\n",
    "# ibs_kick = xf.IBSAnalyticalKick(formalism=\"nagaitsev\", num_slices=50)\n",
    "line.configure_intrabeam_scattering(\n",
    "    element=ibs_kick, name=\"ibskick\", index=-1, update_every=50\n",
    ")\n",
    "\n",
    "################################\n",
    "# Generate Particles and Track #\n",
    "################################\n",
    "\n",
    "nturns: int = 2000\n",
    "epsx, epsy, sigd, bl = [], [], [], []\n",
    "\n",
    "particles = xp.generate_matched_gaussian_bunch(\n",
    "    num_particles=2500,\n",
    "    total_intensity_particles=int(4.5e9),\n",
    "    nemitt_x=5.66e-7,\n",
    "    nemitt_y=3.7e-9,\n",
    "    sigma_z=1.58e-3,\n",
    "    line=line,\n",
    "    _context=context,\n",
    ")\n",
    "\n",
    "for turn in range(nturns):\n",
    "    line.track(particles, num_turns=1)\n",
    "    epsx.append(_gemitt_x(particles, tw.betx[0], tw.dx[0]))\n",
    "    epsy.append(_gemitt_y(particles, tw.bety[0], tw.dy[0]))\n",
    "    sigd.append(_sigma_delta(particles))\n",
    "    bl.append(_bunch_length(particles))\n",
    "\n",
    "#############################\n",
    "# Plot turn-by-turn results #\n",
    "#############################\n",
    "\n",
    "turns = np.arange(nturns) + 1  # start from 1\n",
    "epsx = np.array(epsx)\n",
    "epsy = np.array(epsy)\n",
    "sigd = np.array(sigd)\n",
    "bl = np.array(bl)\n",
    "\n",
    "fig, axx = plt.subplots()\n",
    "axx.plot(turns, 1e10 * epsx, c=\"C0\", label=r\"$\\varepsilon_x$\")\n",
    "axx.set_xlabel(\"Turn\")\n",
    "axx.set_ylabel(r\"$\\varepsilon_x$ [$10^{-10}$m]\")\n",
    "axy = axx.twinx()\n",
    "axy.plot(turns, 1e13 * epsy, c=\"C1\", label=r\"$\\varepsilon_y$\")\n",
    "axy.yaxis.set_label_position(\"right\")\n",
    "axy.set_ylabel(r\"$\\varepsilon_y$ [$10^{-13}$m]\")\n",
    "fig.legend(loc=\"upper center\", bbox_to_anchor=(0.5, 0.95), ncols=2)\n",
    "fig.tight_layout()\n",
    "fig.show()\n",
    "\n",
    "fig2, axd = plt.subplots()\n",
    "axd.plot(turns, 1e3 * sigd, c=\"C2\", label=r\"$\\sigma_{\\delta}$\")\n",
    "axd.set_xlabel(\"Turn\")\n",
    "axd.set_ylabel(r\"$\\sigma_{\\delta}$ [$10^{-3}$]\")\n",
    "axb = axd.twinx()\n",
    "axb.plot(turns, 1e3 * bl, c=\"C3\", label=r\"$\\sigma_z$\")\n",
    "axb.yaxis.set_label_position(\"right\")\n",
    "axb.set_ylabel(r\"$\\sigma_z$ [$10^{-3}$m]\")\n",
    "fig2.legend(loc=\"upper center\", bbox_to_anchor=(0.5, 0.95), ncols=2)\n",
    "fig2.tight_layout()\n",
    "fig2.show()"
   ]
  },
  {
   "cell_type": "code",
   "execution_count": 2,
   "id": "7af3e4c9-8f78-43b6-b8ff-1866b3c5a862",
   "metadata": {},
   "outputs": [
    {
     "data": {
      "application/vnd.jupyter.widget-view+json": {
       "model_id": "d4fdb29859b644e6896a586aacf68fec",
       "version_major": 2,
       "version_minor": 0
      },
      "text/plain": [
       "Loading line from dict:   0%|          | 0/38786 [00:00<?, ?it/s]"
      ]
     },
     "metadata": {},
     "output_type": "display_data"
    },
    {
     "name": "stdout",
     "output_type": "stream",
     "text": [
      "Done loading line from dict.           \n"
     ]
    },
    {
     "ename": "KeyError",
     "evalue": "'particle'",
     "output_type": "error",
     "traceback": [
      "\u001b[31m---------------------------------------------------------------------------\u001b[39m",
      "\u001b[31mKeyError\u001b[39m                                  Traceback (most recent call last)",
      "\u001b[36mCell\u001b[39m\u001b[36m \u001b[39m\u001b[32mIn[2]\u001b[39m\u001b[32m, line 20\u001b[39m\n\u001b[32m     17\u001b[39m     input_data = json.load(fid)\n\u001b[32m     19\u001b[39m line = xt.Line.from_json(fname_line_particles)\n\u001b[32m---> \u001b[39m\u001b[32m20\u001b[39m line.particle_ref = xt.Particles.from_dict(\u001b[43minput_data\u001b[49m\u001b[43m[\u001b[49m\u001b[33;43m\"\u001b[39;49m\u001b[33;43mparticle\u001b[39;49m\u001b[33;43m\"\u001b[39;49m\u001b[43m]\u001b[49m)\n\u001b[32m     21\u001b[39m tw = line.twiss(method=\u001b[33m\"\u001b[39m\u001b[33m4d\u001b[39m\u001b[33m\"\u001b[39m)\n\u001b[32m     23\u001b[39m \u001b[38;5;66;03m#####################\u001b[39;00m\n\u001b[32m     24\u001b[39m \u001b[38;5;66;03m# Define parameters #\u001b[39;00m\n\u001b[32m     25\u001b[39m \u001b[38;5;66;03m#####################\u001b[39;00m\n\u001b[32m     26\u001b[39m \n\u001b[32m     27\u001b[39m \u001b[38;5;66;03m# Line is for LHC protons at top energy\u001b[39;00m\n",
      "\u001b[31mKeyError\u001b[39m: 'particle'"
     ]
    }
   ],
   "source": [
    "# copyright ################################# #\n",
    "# This file is part of the Xfields Package.   #\n",
    "# Copyright (c) CERN, 2021.                   #\n",
    "# ########################################### #\n",
    "\n",
    "import json\n",
    "\n",
    "import xtrack as xt\n",
    "\n",
    "##########################\n",
    "# Load xt.Line from file #\n",
    "##########################\n",
    "\n",
    "fname_line_particles = \"line_and_particle.json\"\n",
    "\n",
    "with open(fname_line_particles, \"r\") as fid:\n",
    "    input_data = json.load(fid)\n",
    "\n",
    "line = xt.Line.from_json(fname_line_particles)\n",
    "line.particle_ref = xt.Particles.from_dict(input_data[\"particle\"])\n",
    "tw = line.twiss(method=\"4d\")\n",
    "\n",
    "#####################\n",
    "# Define parameters #\n",
    "#####################\n",
    "\n",
    "# Line is for LHC protons at top energy\n",
    "bunch_intensity: int = int(1.8e11)\n",
    "nemitt_x: float = 1.8e-6\n",
    "nemitt_y: float = 1.8e-6\n",
    "sigma_delta: float = 4.71e-5\n",
    "bunch_length: float = 3.75e-2\n",
    "\n",
    "###################################\n",
    "# Get growth rates with Nagaitsev #\n",
    "###################################\n",
    "\n",
    "nag_growth_rates = tw.get_ibs_growth_rates(\n",
    "    formalism=\"nagaitsev\",\n",
    "    total_beam_intensity=bunch_intensity,\n",
    "    nemitt_x=nemitt_x,\n",
    "    nemitt_y=nemitt_y,\n",
    "    sigma_delta=sigma_delta,\n",
    "    bunch_length=bunch_length,\n",
    "    bunched=True,\n",
    ")\n",
    "\n",
    "#########################################\n",
    "# Get growth rates with Bjorken-Mtingwa #\n",
    "#########################################\n",
    "\n",
    "bm_growth_rates = tw.get_ibs_growth_rates(\n",
    "    formalism=\"bjorken-mtingwa\",  # also accepts \"b&m\"\n",
    "    total_beam_intensity=bunch_intensity,\n",
    "    nemitt_x=nemitt_x,\n",
    "    nemitt_y=nemitt_y,\n",
    "    sigma_delta=sigma_delta,\n",
    "    bunch_length=bunch_length,\n",
    "    bunched=True,\n",
    ")\n",
    "\n",
    "##########################################################\n",
    "# Compare: we expect Nagaitsev to be wrong in horizontal #\n",
    "##########################################################\n",
    "\n",
    "print()\n",
    "print(\"Computed from normalized emittances:\")\n",
    "print(\"------------------------------------\")\n",
    "print(f\"Nagaitsev:       {nag_growth_rates}\")\n",
    "print(f\"Bjorken-Mtingwa: {bm_growth_rates}\")\n",
    "\n",
    "# Computed from normalized emittances:\n",
    "# ------------------------------------\n",
    "# Nagaitsev:       IBSAmplitudeGrowthRates(Kx=3.12e-05, Ky=-1.14e-09, Kz=0.000155)\n",
    "# Bjorken-Mtingwa: IBSAmplitudeGrowthRates(Kx=3.11e-05, Ky=5.52e-07, Kz=0.000155)"
   ]
  },
  {
   "cell_type": "code",
   "execution_count": 5,
   "id": "496cd37f-a4dd-4b5c-8626-09f0c2899665",
   "metadata": {},
   "outputs": [
    {
     "data": {
      "application/vnd.jupyter.widget-view+json": {
       "model_id": "a1e080589d2f498e87c22667e9399234",
       "version_major": 2,
       "version_minor": 0
      },
      "text/plain": [
       "Loading line from dict:   0%|          | 0/38786 [00:00<?, ?it/s]"
      ]
     },
     "metadata": {},
     "output_type": "display_data"
    },
    {
     "name": "stdout",
     "output_type": "stream",
     "text": [
      "Done loading line from dict.           \n"
     ]
    },
    {
     "ename": "KeyError",
     "evalue": "'particle'",
     "output_type": "error",
     "traceback": [
      "\u001b[31m---------------------------------------------------------------------------\u001b[39m",
      "\u001b[31mKeyError\u001b[39m                                  Traceback (most recent call last)",
      "\u001b[36mCell\u001b[39m\u001b[36m \u001b[39m\u001b[32mIn[5]\u001b[39m\u001b[32m, line 20\u001b[39m\n\u001b[32m     17\u001b[39m     input_data = json.load(fid)\n\u001b[32m     19\u001b[39m line = xt.Line.from_json(fname_line_particles)\n\u001b[32m---> \u001b[39m\u001b[32m20\u001b[39m line.particle_ref = xt.Particles.from_dict(\u001b[43minput_data\u001b[49m\u001b[43m[\u001b[49m\u001b[33;43m\"\u001b[39;49m\u001b[33;43mparticle\u001b[39;49m\u001b[33;43m\"\u001b[39;49m\u001b[43m]\u001b[49m)\n\u001b[32m     21\u001b[39m tw = line.twiss(method=\u001b[33m\"\u001b[39m\u001b[33m4d\u001b[39m\u001b[33m\"\u001b[39m)\n\u001b[32m     23\u001b[39m \u001b[38;5;66;03m#####################\u001b[39;00m\n\u001b[32m     24\u001b[39m \u001b[38;5;66;03m# Define parameters #\u001b[39;00m\n\u001b[32m     25\u001b[39m \u001b[38;5;66;03m#####################\u001b[39;00m\n\u001b[32m     26\u001b[39m \n\u001b[32m     27\u001b[39m \u001b[38;5;66;03m# Line is for LHC protons at top energy\u001b[39;00m\n",
      "\u001b[31mKeyError\u001b[39m: 'particle'"
     ]
    }
   ],
   "source": [
    "# copyright ################################# #\n",
    "# This file is part of the Xfields Package.   #\n",
    "# Copyright (c) CERN, 2021.                   #\n",
    "# ########################################### #\n",
    "\n",
    "import json\n",
    "\n",
    "import xtrack as xt\n",
    "\n",
    "##########################\n",
    "# Load xt.Line from file #\n",
    "##########################\n",
    "\n",
    "fname_line_particles = \"line_and_particle.json\"\n",
    "\n",
    "with open(fname_line_particles, \"r\") as fid:\n",
    "    input_data = json.load(fid)\n",
    "\n",
    "line = xt.Line.from_json(fname_line_particles)\n",
    "line.particle_ref = xt.Particles.from_dict(input_data[\"particle\"])\n",
    "tw = line.twiss(method=\"4d\")\n",
    "\n",
    "#####################\n",
    "# Define parameters #\n",
    "#####################\n",
    "\n",
    "# Line is for LHC protons at top energy\n",
    "bunch_intensity: int = int(1.8e11)\n",
    "nemitt_x: float = 1.8e-6\n",
    "nemitt_y: float = 1.8e-6\n",
    "sigma_delta: float = 4.71e-5\n",
    "bunch_length: float = 3.75e-2\n",
    "\n",
    "###################################\n",
    "# Get growth rates with Nagaitsev #\n",
    "###################################\n",
    "\n",
    "nag_growth_rates = tw.get_ibs_growth_rates(\n",
    "    formalism=\"nagaitsev\",\n",
    "    total_beam_intensity=bunch_intensity,\n",
    "    nemitt_x=nemitt_x,\n",
    "    nemitt_y=nemitt_y,\n",
    "    sigma_delta=sigma_delta,\n",
    "    bunch_length=bunch_length,\n",
    "    bunched=True,\n",
    ")\n",
    "\n",
    "#########################################\n",
    "# Get growth rates with Bjorken-Mtingwa #\n",
    "#########################################\n",
    "\n",
    "bm_growth_rates = tw.get_ibs_growth_rates(\n",
    "    formalism=\"bjorken-mtingwa\",  # also accepts \"b&m\"\n",
    "    total_beam_intensity=bunch_intensity,\n",
    "    nemitt_x=nemitt_x,\n",
    "    nemitt_y=nemitt_y,\n",
    "    sigma_delta=sigma_delta,\n",
    "    bunch_length=bunch_length,\n",
    "    bunched=True,\n",
    ")\n",
    "\n",
    "##########################################################\n",
    "# Compare: we expect Nagaitsev to be wrong in horizontal #\n",
    "##########################################################\n",
    "\n",
    "print()\n",
    "print(\"Computed from normalized emittances:\")\n",
    "print(\"------------------------------------\")\n",
    "print(f\"Nagaitsev:       {nag_growth_rates}\")\n",
    "print(f\"Bjorken-Mtingwa: {bm_growth_rates}\")\n",
    "\n",
    "# Computed from normalized emittances:\n",
    "# ------------------------------------\n",
    "# Nagaitsev:       IBSAmplitudeGrowthRates(Kx=3.12e-05, Ky=-1.14e-09, Kz=0.000155)\n",
    "# Bjorken-Mtingwa: IBSAmplitudeGrowthRates(Kx=3.11e-05, Ky=5.52e-07, Kz=0.000155)"
   ]
  }
 ],
 "metadata": {
  "kernelspec": {
   "display_name": "Python 3 (ipykernel)",
   "language": "python",
   "name": "python3"
  },
  "language_info": {
   "codemirror_mode": {
    "name": "ipython",
    "version": 3
   },
   "file_extension": ".py",
   "mimetype": "text/x-python",
   "name": "python",
   "nbconvert_exporter": "python",
   "pygments_lexer": "ipython3",
   "version": "3.12.7"
  }
 },
 "nbformat": 4,
 "nbformat_minor": 5
}
