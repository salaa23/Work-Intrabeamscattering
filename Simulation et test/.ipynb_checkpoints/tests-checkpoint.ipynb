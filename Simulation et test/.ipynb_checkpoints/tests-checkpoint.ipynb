{
 "cells": [
  {
   "cell_type": "code",
   "execution_count": 1,
   "id": "69d1518d-9712-4a53-b1fb-1dc0deeae1ff",
   "metadata": {},
   "outputs": [
    {
     "data": {
      "application/vnd.jupyter.widget-view+json": {
       "model_id": "ebb3f97b7b674525bd56fbdc51f04b66",
       "version_major": 2,
       "version_minor": 0
      },
      "text/plain": [
       "Loading line from dict:   0%|          | 0/18656 [00:00<?, ?it/s]"
      ]
     },
     "metadata": {},
     "output_type": "display_data"
    },
    {
     "name": "stdout",
     "output_type": "stream",
     "text": [
      "Done loading line from dict.           \n"
     ]
    },
    {
     "ename": "KeyError",
     "evalue": "'particle'",
     "output_type": "error",
     "traceback": [
      "\u001b[31m---------------------------------------------------------------------------\u001b[39m",
      "\u001b[31mKeyError\u001b[39m                                  Traceback (most recent call last)",
      "\u001b[36mCell\u001b[39m\u001b[36m \u001b[39m\u001b[32mIn[1]\u001b[39m\u001b[32m, line 20\u001b[39m\n\u001b[32m     17\u001b[39m     input_data = json.load(fid)\n\u001b[32m     19\u001b[39m line = xt.Line.from_json(fname_line_particles)\n\u001b[32m---> \u001b[39m\u001b[32m20\u001b[39m line.particle_ref = xt.Particles.from_dict(\u001b[43minput_data\u001b[49m\u001b[43m[\u001b[49m\u001b[33;43m\"\u001b[39;49m\u001b[33;43mparticle\u001b[39;49m\u001b[33;43m\"\u001b[39;49m\u001b[43m]\u001b[49m)\n\u001b[32m     21\u001b[39m tw = line.twiss(method=\u001b[33m\"\u001b[39m\u001b[33m4d\u001b[39m\u001b[33m\"\u001b[39m)\n\u001b[32m     23\u001b[39m \u001b[38;5;66;03m#####################\u001b[39;00m\n\u001b[32m     24\u001b[39m \u001b[38;5;66;03m# Define parameters #\u001b[39;00m\n\u001b[32m     25\u001b[39m \u001b[38;5;66;03m#####################\u001b[39;00m\n\u001b[32m     26\u001b[39m \n\u001b[32m     27\u001b[39m \u001b[38;5;66;03m# Line is for LHC protons at top energy\u001b[39;00m\n",
      "\u001b[31mKeyError\u001b[39m: 'particle'"
     ]
    }
   ],
   "source": [
    "# copyright ################################# #\n",
    "# This file is part of the Xfields Package.   #\n",
    "# Copyright (c) CERN, 2021.                   #\n",
    "# ########################################### #\n",
    "\n",
    "import json\n",
    "\n",
    "import xtrack as xt\n",
    "\n",
    "##########################\n",
    "# Load xt.Line from file #\n",
    "##########################\n",
    "\n",
    "fname_line_particles = \"line_and_particle.json\"\n",
    "\n",
    "with open(fname_line_particles, \"r\") as fid:\n",
    "    input_data = json.load(fid)\n",
    "\n",
    "line = xt.Line.from_json(fname_line_particles)\n",
    "line.particle_ref = xt.Particles.from_dict(input_data[\"particle\"])\n",
    "tw = line.twiss(method=\"4d\")\n",
    "\n",
    "#####################\n",
    "# Define parameters #\n",
    "#####################\n",
    "\n",
    "# Line is for LHC protons at top energy\n",
    "bunch_intensity: int = int(1.8e11)\n",
    "nemitt_x: float = 1.8e-6\n",
    "nemitt_y: float = 1.8e-6\n",
    "sigma_delta: float = 4.71e-5\n",
    "bunch_length: float = 3.75e-2\n",
    "\n",
    "###################################\n",
    "# Get growth rates with Nagaitsev #\n",
    "###################################\n",
    "\n",
    "nag_growth_rates = tw.get_ibs_growth_rates(\n",
    "    formalism=\"nagaitsev\",\n",
    "    total_beam_intensity=bunch_intensity,\n",
    "    nemitt_x=nemitt_x,\n",
    "    nemitt_y=nemitt_y,\n",
    "    sigma_delta=sigma_delta,\n",
    "    bunch_length=bunch_length,\n",
    "    bunched=True,\n",
    ")\n",
    "\n",
    "#########################################\n",
    "# Get growth rates with Bjorken-Mtingwa #\n",
    "#########################################\n",
    "\n",
    "bm_growth_rates = tw.get_ibs_growth_rates(\n",
    "    formalism=\"bjorken-mtingwa\",  # also accepts \"b&m\"\n",
    "    total_beam_intensity=bunch_intensity,\n",
    "    nemitt_x=nemitt_x,\n",
    "    nemitt_y=nemitt_y,\n",
    "    sigma_delta=sigma_delta,\n",
    "    bunch_length=bunch_length,\n",
    "    bunched=True,\n",
    ")\n",
    "\n",
    "##########################################################\n",
    "# Compare: we expect Nagaitsev to be wrong in horizontal #\n",
    "##########################################################\n",
    "\n",
    "print()\n",
    "print(\"Computed from normalized emittances:\")\n",
    "print(\"------------------------------------\")\n",
    "print(f\"Nagaitsev:       {nag_growth_rates}\")\n",
    "print(f\"Bjorken-Mtingwa: {bm_growth_rates}\")\n",
    "\n",
    "# Computed from normalized emittances:\n",
    "# ------------------------------------\n",
    "# Nagaitsev:       IBSAmplitudeGrowthRates(Kx=3.12e-05, Ky=-1.14e-09, Kz=0.000155)\n",
    "# Bjorken-Mtingwa: IBSAmplitudeGrowthRates(Kx=3.11e-05, Ky=5.52e-07, Kz=0.000155)"
   ]
  },
  {
   "cell_type": "code",
   "execution_count": 2,
   "id": "6c232cb7-6caf-49bb-8104-6b07b0ebd2df",
   "metadata": {},
   "outputs": [
    {
     "data": {
      "application/vnd.jupyter.widget-view+json": {
       "model_id": "567229bd5daa4ccfb917f8f3d8257447",
       "version_major": 2,
       "version_minor": 0
      },
      "text/plain": [
       "Loading line from dict:   0%|          | 0/18656 [00:00<?, ?it/s]"
      ]
     },
     "metadata": {},
     "output_type": "display_data"
    },
    {
     "name": "stdout",
     "output_type": "stream",
     "text": [
      "Done loading line from dict.           \n",
      "IBSAmplitudeGrowthRates(Kx=0.000518, Ky=0.00552, Kz=0.00402)\n",
      "IBSEmittanceGrowthRates(Kx=0.00104, Ky=0.011, Kz=0.00803)\n",
      "Initial:         IBSAmplitudeGrowthRates(Kx=0.000518, Ky=0.00552, Kz=0.00402)\n",
      "Converted twice: IBSAmplitudeGrowthRates(Kx=0.000518, Ky=0.00552, Kz=0.00402)\n",
      "Amp times from amp rates:  (1930.7146824851227, 181.11747760493154, 248.96851263301807)\n",
      "Amp times from emit rates: (1930.7146824851227, 181.11747760493154, 248.96851263301807)\n",
      "Emit times from amp rates:  (965.3573412425613, 90.55873880246577, 124.48425631650903)\n",
      "Emit times from emit rates: (965.3573412425613, 90.55873880246577, 124.48425631650903)\n"
     ]
    },
    {
     "data": {
      "application/vnd.jupyter.widget-view+json": {
       "model_id": "5e74457a78fc445eb8d5f37ffe6be9a2",
       "version_major": 2,
       "version_minor": 0
      },
      "text/plain": [
       "Loading line from dict:   0%|          | 0/8202 [00:00<?, ?it/s]"
      ]
     },
     "metadata": {},
     "output_type": "display_data"
    },
    {
     "name": "stdout",
     "output_type": "stream",
     "text": [
      "Done loading line from dict.           \n",
      "Compiling ContextCpu kernels...\n",
      "Done compiling ContextCpu kernels.\n",
      "Compiling ContextCpu kernels...\n",
      "Done compiling ContextCpu kernels.\n",
      "The line has collective elements.\n",
      "In the twiss computation collective elements are replaced by drifts\n",
      "Compiling ContextCpu kernels...\n",
      "Done compiling ContextCpu kernels.\n"
     ]
    },
    {
     "name": "stderr",
     "output_type": "stream",
     "text": [
      "Ignoring collective elements in particles generation.\n"
     ]
    },
    {
     "name": "stdout",
     "output_type": "stream",
     "text": [
      "*** Maximum RMS bunch length 0.23578845393343895m.\n"
     ]
    },
    {
     "name": "stderr",
     "output_type": "stream",
     "text": [
      "/home/salahfd/anaconda3/envs/acc/lib/python3.13/site-packages/scipy/integrate/_quadpack_py.py:1260: IntegrationWarning: The integral is probably divergent, or slowly convergent.\n",
      "  quad_r = quad(f, low, high, args=args, full_output=self.full_output,\n"
     ]
    },
    {
     "name": "stdout",
     "output_type": "stream",
     "text": [
      "... distance to target bunch length: -8.8206e-02\n",
      "... distance to target bunch length: 1.3947e-01\n",
      "... distance to target bunch length: 9.6746e-02\n",
      "... distance to target bunch length: 1.5628e-03\n",
      "... distance to target bunch length: -1.5040e-04\n",
      "... distance to target bunch length: -3.5986e-07\n",
      "... distance to target bunch length: 1.2839e-07\n",
      "--> Bunch length: 0.08980012839156344\n"
     ]
    },
    {
     "name": "stderr",
     "output_type": "stream",
     "text": [
      "Ignoring collective elements in particles generation.\n"
     ]
    },
    {
     "name": "stdout",
     "output_type": "stream",
     "text": [
      "--> Emittance: 0.05310746640738673\n"
     ]
    },
    {
     "data": {
      "application/vnd.jupyter.widget-view+json": {
       "model_id": "c8b061e08cac418e86d18aaa56363ca3",
       "version_major": 2,
       "version_minor": 0
      },
      "text/plain": [
       "Tracking:   0%|          | 0/100 [00:00<?, ?it/s]"
      ]
     },
     "metadata": {},
     "output_type": "display_data"
    },
    {
     "name": "stdout",
     "output_type": "stream",
     "text": [
      "Compiling ContextCpu kernels...\n",
      "Done compiling ContextCpu kernels.\n"
     ]
    }
   ],
   "source": [
    "# copyright ################################# #\n",
    "# This file is part of the Xfields Package.   #\n",
    "# Copyright (c) CERN, 2021.                   #\n",
    "# ########################################### #\n",
    "\n",
    "import xtrack as xt\n",
    "\n",
    "##########################\n",
    "# Load xt.Line from file #\n",
    "##########################\n",
    "\n",
    "fname_line_particles = \"line_and_particle.json\"\n",
    "line = xt.Line.from_json(fname_line_particles)\n",
    "tw = line.twiss(method=\"4d\")\n",
    "\n",
    "#####################\n",
    "# Define parameters #\n",
    "#####################\n",
    "\n",
    "# Line is for SPS ions at injection\n",
    "bunch_intensity: int = int(3.5e8)\n",
    "nemitt_x: float = 1.2612e-6\n",
    "nemitt_y: float = 0.9081e-6\n",
    "sigma_delta: float = 3.59e-4\n",
    "bunch_length: float = 19.51e-2\n",
    "\n",
    "####################\n",
    "# Get growth rates #\n",
    "####################\n",
    "\n",
    "# There is no vertical dispersion so Nagaitsev\n",
    "# will be correct in vertical\n",
    "amp_growth_rates = tw.get_ibs_growth_rates(\n",
    "    formalism=\"nagaitsev\",\n",
    "    total_beam_intensity=bunch_intensity,\n",
    "    nemitt_x=nemitt_x,\n",
    "    nemitt_y=nemitt_y,\n",
    "    sigma_delta=sigma_delta,\n",
    "    bunch_length=bunch_length,\n",
    "    bunched=True,\n",
    ")\n",
    "\n",
    "##########################################################\n",
    "# Converting between amplitude and emittance conventions #\n",
    "##########################################################\n",
    "\n",
    "# Notice how, when printing the returned object, it states\n",
    "# the growth rates are given in amplitude convention\n",
    "print(amp_growth_rates)\n",
    "# IBSAmplitudeGrowthRates(Kx=0.000518, Ky=0.00552, Kz=0.00402)\n",
    "\n",
    "# Methods are implemented to convert to the emittance convention\n",
    "emit_growth_rates = amp_growth_rates.to_emittance_growth_rates()\n",
    "print(emit_growth_rates)\n",
    "# IBSEmittanceGrowthRates(Kx=0.00104, Ky=0.011, Kz=0.00803)\n",
    "\n",
    "# It is also possible to convert back to the amplitude convention\n",
    "print(f\"Initial:         {amp_growth_rates}\")\n",
    "print(f\"Converted twice: {emit_growth_rates.to_amplitude_growth_rates()}\")\n",
    "# Initial:         IBSAmplitudeGrowthRates(Kx=0.000518, Ky=0.00552, Kz=0.00402)\n",
    "# Converted twice: IBSAmplitudeGrowthRates(Kx=0.000518, Ky=0.00552, Kz=0.00402)\n",
    "\n",
    "####################################################\n",
    "# Converting between growth rates and growth times #\n",
    "####################################################\n",
    "\n",
    "# Should one want the growth times, a method is available in both\n",
    "# conventions to perform this conversion, although it returns a tuple\n",
    "print(f\"Amp times from amp rates:  {amp_growth_rates.to_amplitude_growth_times()}\")\n",
    "print(f\"Amp times from emit rates: {emit_growth_rates.to_amplitude_growth_times()}\")\n",
    "# Amp times from amp rates:  (1930.7146824847905, 181.11747760500302, 248.968512633387)\n",
    "# Amp times from emit rates: (1930.7146824847905, 181.11747760500302, 248.968512633387)\n",
    "\n",
    "# And it is of course possible to get the emittance\n",
    "# growth times from any of the two conventions\n",
    "print(f\"Emit times from amp rates:  {amp_growth_rates.to_emittance_growth_times()}\")\n",
    "print(f\"Emit times from emit rates: {emit_growth_rates.to_emittance_growth_times()}\")\n",
    "# Emit times from amp rates:  (965.3573412423953, 90.55873880250151, 124.4842563166935)\n",
    "# Emit times from emit rates: (965.3573412423953, 90.55873880250151, 124.4842563166935)# copyright ################################# #\n",
    "# This file is part of the Xfields Package.   #\n",
    "# Copyright (c) CERN, 2021.                   #\n",
    "# ########################################### #\n",
    "import xfields as xf\n",
    "import xobjects as xo\n",
    "import xpart as xp\n",
    "import xtrack as xt\n",
    "\n",
    "context = xo.ContextCpu(omp_num_threads=\"auto\")\n",
    "\n",
    "##########################\n",
    "# Load xt.Line from file #\n",
    "##########################\n",
    "\n",
    "# This is SPS line with proton as particle ref\n",
    "fname_line_particles = \"line_no_spacecharge_and_particle.json\"\n",
    "line: xt.Line = xt.Line.from_json(fname_line_particles)\n",
    "line.build_tracker(_context=context)\n",
    "\n",
    "#######################################\n",
    "# Create and Install IBS Kick Element #\n",
    "#######################################\n",
    "\n",
    "# For the analytical kick formalism: kicks are computed based\n",
    "# on the analytical growth rates (so it needs a formalism)\n",
    "# ibs_kick = xf.IBSAnalyticalKick(formalism=\"nagaitsev\", num_slices=50)\n",
    "\n",
    "# For the kinetic formalism: kicks are computed based on the\n",
    "# friction and diffusion terms of the kinetic theory of gases\n",
    "ibs_kick = xf.IBSKineticKick(num_slices=50)\n",
    "\n",
    "# By default the element is off until configuration. Let's install\n",
    "# the kick at the end of the line and configure it. This internally\n",
    "# provides the necessary information to the element\n",
    "line.configure_intrabeam_scattering(\n",
    "    element=ibs_kick, name=\"ibskick\", index=-1, update_every=50\n",
    ")\n",
    "\n",
    "############################################\n",
    "# Define parameters and Generate Particles #\n",
    "############################################\n",
    "\n",
    "# Line is for SPS protons at injection\n",
    "bunch_intensity: int = int(3.5e8)\n",
    "nemitt_x: float = 2.5e-6\n",
    "nemitt_y: float = 2.5e-6\n",
    "sigma_delta: float = 9.56e-4\n",
    "bunch_length: float = 8.98e-2\n",
    "\n",
    "particles = xp.generate_matched_gaussian_bunch(\n",
    "    num_particles=10_000,\n",
    "    total_intensity_particles=bunch_intensity,\n",
    "    nemitt_x=nemitt_x,\n",
    "    nemitt_y=nemitt_y,\n",
    "    sigma_z=bunch_length,\n",
    "    line=line,\n",
    "    _context=context,\n",
    ")\n",
    "\n",
    "##############################################\n",
    "# Track now applies an IBS kick at each turn #\n",
    "##############################################\n",
    "\n",
    "line.track(particles, num_turns=100, with_progress=5)"
   ]
  },
  {
   "cell_type": "code",
   "execution_count": 3,
   "id": "a57456b1-d848-47a8-bdc9-f65529883242",
   "metadata": {},
   "outputs": [
    {
     "data": {
      "application/vnd.jupyter.widget-view+json": {
       "model_id": "d9b3846574c34a07a2b3da6cf242f04f",
       "version_major": 2,
       "version_minor": 0
      },
      "text/plain": [
       "Loading line from dict:   0%|          | 0/8202 [00:00<?, ?it/s]"
      ]
     },
     "metadata": {},
     "output_type": "display_data"
    },
    {
     "name": "stdout",
     "output_type": "stream",
     "text": [
      "Done loading line from dict.           \n",
      "Compiling ContextCpu kernels...\n",
      "Done compiling ContextCpu kernels.\n",
      "Compiling ContextCpu kernels...\n",
      "Done compiling ContextCpu kernels.\n",
      "The line has collective elements.\n",
      "In the twiss computation collective elements are replaced by drifts\n",
      "Compiling ContextCpu kernels...\n",
      "Done compiling ContextCpu kernels.\n"
     ]
    },
    {
     "name": "stderr",
     "output_type": "stream",
     "text": [
      "Ignoring collective elements in particles generation.\n"
     ]
    },
    {
     "name": "stdout",
     "output_type": "stream",
     "text": [
      "*** Maximum RMS bunch length 0.23578845393343895m.\n"
     ]
    },
    {
     "name": "stderr",
     "output_type": "stream",
     "text": [
      "/home/salahfd/anaconda3/envs/acc/lib/python3.13/site-packages/scipy/integrate/_quadpack_py.py:1260: IntegrationWarning: The integral is probably divergent, or slowly convergent.\n",
      "  quad_r = quad(f, low, high, args=args, full_output=self.full_output,\n"
     ]
    },
    {
     "name": "stdout",
     "output_type": "stream",
     "text": [
      "... distance to target bunch length: -8.8206e-02\n",
      "... distance to target bunch length: 1.3947e-01\n",
      "... distance to target bunch length: 9.6746e-02\n",
      "... distance to target bunch length: 1.5628e-03\n",
      "... distance to target bunch length: -1.5040e-04\n",
      "... distance to target bunch length: -3.5986e-07\n",
      "... distance to target bunch length: 1.2839e-07\n",
      "--> Bunch length: 0.08980012839156344\n"
     ]
    },
    {
     "name": "stderr",
     "output_type": "stream",
     "text": [
      "Ignoring collective elements in particles generation.\n"
     ]
    },
    {
     "name": "stdout",
     "output_type": "stream",
     "text": [
      "--> Emittance: 0.05310746640738673\n"
     ]
    },
    {
     "data": {
      "application/vnd.jupyter.widget-view+json": {
       "model_id": "6b3301bd62d1431abaf62e8bf0cc9d80",
       "version_major": 2,
       "version_minor": 0
      },
      "text/plain": [
       "Tracking:   0%|          | 0/100 [00:00<?, ?it/s]"
      ]
     },
     "metadata": {},
     "output_type": "display_data"
    },
    {
     "name": "stdout",
     "output_type": "stream",
     "text": [
      "Compiling ContextCpu kernels...\n",
      "Done compiling ContextCpu kernels.\n"
     ]
    }
   ],
   "source": [
    "# copyright ################################# #\n",
    "# This file is part of the Xfields Package.   #\n",
    "# Copyright (c) CERN, 2021.                   #\n",
    "# ########################################### #\n",
    "import xfields as xf\n",
    "import xobjects as xo\n",
    "import xpart as xp\n",
    "import xtrack as xt\n",
    "\n",
    "context = xo.ContextCpu(omp_num_threads=\"auto\")\n",
    "\n",
    "##########################\n",
    "# Load xt.Line from file #\n",
    "##########################\n",
    "\n",
    "# This is SPS line with proton as particle ref\n",
    "fname_line_particles = \"line_no_spacecharge_and_particle.json\"\n",
    "line: xt.Line = xt.Line.from_json(fname_line_particles)\n",
    "line.build_tracker(_context=context)\n",
    "\n",
    "#######################################\n",
    "# Create and Install IBS Kick Element #\n",
    "#######################################\n",
    "\n",
    "# For the analytical kick formalism: kicks are computed based\n",
    "# on the analytical growth rates (so it needs a formalism)\n",
    "# ibs_kick = xf.IBSAnalyticalKick(formalism=\"nagaitsev\", num_slices=50)\n",
    "\n",
    "# For the kinetic formalism: kicks are computed based on the\n",
    "# friction and diffusion terms of the kinetic theory of gases\n",
    "ibs_kick = xf.IBSKineticKick(num_slices=50)\n",
    "\n",
    "# By default the element is off until configuration. Let's install\n",
    "# the kick at the end of the line and configure it. This internally\n",
    "# provides the necessary information to the element\n",
    "line.configure_intrabeam_scattering(\n",
    "    element=ibs_kick, name=\"ibskick\", index=-1, update_every=50\n",
    ")\n",
    "\n",
    "############################################\n",
    "# Define parameters and Generate Particles #\n",
    "############################################\n",
    "\n",
    "# Line is for SPS protons at injection\n",
    "bunch_intensity: int = int(3.5e8)\n",
    "nemitt_x: float = 2.5e-6\n",
    "nemitt_y: float = 2.5e-6\n",
    "sigma_delta: float = 9.56e-4\n",
    "bunch_length: float = 8.98e-2\n",
    "\n",
    "particles = xp.generate_matched_gaussian_bunch(\n",
    "    num_particles=10_000,\n",
    "    total_intensity_particles=bunch_intensity,\n",
    "    nemitt_x=nemitt_x,\n",
    "    nemitt_y=nemitt_y,\n",
    "    sigma_z=bunch_length,\n",
    "    line=line,\n",
    "    _context=context,\n",
    ")\n",
    "\n",
    "##############################################\n",
    "# Track now applies an IBS kick at each turn #\n",
    "##############################################\n",
    "\n",
    "line.track(particles, num_turns=100, with_progress=5)"
   ]
  },
  {
   "cell_type": "code",
   "execution_count": 8,
   "id": "7d55fa68-657d-4f9a-90a9-486ec4396d9f",
   "metadata": {},
   "outputs": [
    {
     "ename": "NameError",
     "evalue": "name 'twiss' is not defined",
     "output_type": "error",
     "traceback": [
      "\u001b[31m---------------------------------------------------------------------------\u001b[39m",
      "\u001b[31mNameError\u001b[39m                                 Traceback (most recent call last)",
      "\u001b[36mCell\u001b[39m\u001b[36m \u001b[39m\u001b[32mIn[8]\u001b[39m\u001b[32m, line 1\u001b[39m\n\u001b[32m----> \u001b[39m\u001b[32m1\u001b[39m \u001b[43mtwiss\u001b[49m\n",
      "\u001b[31mNameError\u001b[39m: name 'twiss' is not defined"
     ]
    }
   ],
   "source": [
    "twiss"
   ]
  }
 ],
 "metadata": {
  "kernelspec": {
   "display_name": "Python 3 (ipykernel)",
   "language": "python",
   "name": "python3"
  },
  "language_info": {
   "codemirror_mode": {
    "name": "ipython",
    "version": 3
   },
   "file_extension": ".py",
   "mimetype": "text/x-python",
   "name": "python",
   "nbconvert_exporter": "python",
   "pygments_lexer": "ipython3",
   "version": "3.13.2"
  }
 },
 "nbformat": 4,
 "nbformat_minor": 5
}
