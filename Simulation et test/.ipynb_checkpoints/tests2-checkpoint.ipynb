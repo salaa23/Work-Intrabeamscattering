{
 "cells": [
  {
   "cell_type": "code",
   "execution_count": 3,
   "id": "cb283231-7ade-442b-8eda-f469ba6775f2",
   "metadata": {},
   "outputs": [
    {
     "data": {
      "application/vnd.jupyter.widget-view+json": {
       "model_id": "7a1af6922978495da8a4563e2fd75c54",
       "version_major": 2,
       "version_minor": 0
      },
      "text/plain": [
       "Loading line from dict:   0%|          | 0/18656 [00:00<?, ?it/s]"
      ]
     },
     "metadata": {},
     "output_type": "display_data"
    },
    {
     "name": "stdout",
     "output_type": "stream",
     "text": [
      "Done loading line from dict.           \n",
      "IBSAmplitudeGrowthRates(Kx=0.000519, Ky=0.00552, Kz=0.00402)\n",
      "IBSEmittanceGrowthRates(Kx=0.00104, Ky=0.011, Kz=0.00803)\n",
      "Initial:         IBSAmplitudeGrowthRates(Kx=0.000519, Ky=0.00552, Kz=0.00402)\n",
      "Converted twice: IBSAmplitudeGrowthRates(Kx=0.000519, Ky=0.00552, Kz=0.00402)\n",
      "Amp times from amp rates:  (1928.6031493096934, 181.12089100720544, 248.94985426185468)\n",
      "Amp times from emit rates: (1928.6031493096934, 181.12089100720544, 248.94985426185468)\n",
      "Emit times from amp rates:  (964.3015746548467, 90.56044550360272, 124.47492713092734)\n",
      "Emit times from emit rates: (964.3015746548467, 90.56044550360272, 124.47492713092734)\n"
     ]
    }
   ],
   "source": [
    "# copyright ################################# #\n",
    "# This file is part of the Xfields Package.   #\n",
    "# Copyright (c) CERN, 2021.                   #\n",
    "# ########################################### #\n",
    "\n",
    "import xtrack as xt\n",
    "\n",
    "##########################\n",
    "# Load xt.Line from file #\n",
    "##########################\n",
    "\n",
    "fname_line_particles = \"line_and_particle.json\"\n",
    "line = xt.Line.from_json(fname_line_particles)\n",
    "tw = line.twiss(method=\"6d\")\n",
    "\n",
    "#####################\n",
    "# Define parameters #\n",
    "#####################\n",
    "\n",
    "# Line is for SPS ions at injection\n",
    "bunch_intensity: int = int(3.5e8)\n",
    "nemitt_x: float = 1.2612e-6\n",
    "nemitt_y: float = 0.9081e-6\n",
    "sigma_delta: float = 3.59e-4\n",
    "bunch_length: float = 19.51e-2\n",
    "\n",
    "####################\n",
    "# Get growth rates #\n",
    "####################\n",
    "\n",
    "# There is no vertical dispersion so Nagaitsev\n",
    "# will be correct in vertical\n",
    "amp_growth_rates = tw.get_ibs_growth_rates(\n",
    "    formalism=\"nagaitsev\",\n",
    "    total_beam_intensity=bunch_intensity,\n",
    "    nemitt_x=nemitt_x,\n",
    "    nemitt_y=nemitt_y,\n",
    "    sigma_delta=sigma_delta,\n",
    "    bunch_length=bunch_length,\n",
    "    bunched=True,\n",
    ")\n",
    "\n",
    "##########################################################\n",
    "# Converting between amplitude and emittance conventions #\n",
    "##########################################################\n",
    "\n",
    "# Notice how, when printing the returned object, it states\n",
    "# the growth rates are given in amplitude convention\n",
    "print(amp_growth_rates)\n",
    "# IBSAmplitudeGrowthRates(Kx=0.000518, Ky=0.00552, Kz=0.00402)\n",
    "\n",
    "# Methods are implemented to convert to the emittance convention\n",
    "emit_growth_rates = amp_growth_rates.to_emittance_growth_rates()\n",
    "print(emit_growth_rates)\n",
    "# IBSEmittanceGrowthRates(Kx=0.00104, Ky=0.011, Kz=0.00803)\n",
    "\n",
    "# It is also possible to convert back to the amplitude convention\n",
    "print(f\"Initial:         {amp_growth_rates}\")\n",
    "print(f\"Converted twice: {emit_growth_rates.to_amplitude_growth_rates()}\")\n",
    "# Initial:         IBSAmplitudeGrowthRates(Kx=0.000518, Ky=0.00552, Kz=0.00402)\n",
    "# Converted twice: IBSAmplitudeGrowthRates(Kx=0.000518, Ky=0.00552, Kz=0.00402)\n",
    "\n",
    "####################################################\n",
    "# Converting between growth rates and growth times #\n",
    "####################################################\n",
    "\n",
    "# Should one want the growth times, a method is available in both\n",
    "# conventions to perform this conversion, although it returns a tuple\n",
    "print(f\"Amp times from amp rates:  {amp_growth_rates.to_amplitude_growth_times()}\")\n",
    "print(f\"Amp times from emit rates: {emit_growth_rates.to_amplitude_growth_times()}\")\n",
    "# Amp times from amp rates:  (1930.7146824847905, 181.11747760500302, 248.968512633387)\n",
    "# Amp times from emit rates: (1930.7146824847905, 181.11747760500302, 248.968512633387)\n",
    "\n",
    "# And it is of course possible to get the emittance\n",
    "# growth times from any of the two conventions\n",
    "print(f\"Emit times from amp rates:  {amp_growth_rates.to_emittance_growth_times()}\")\n",
    "print(f\"Emit times from emit rates: {emit_growth_rates.to_emittance_growth_times()}\")\n",
    "# Emit times from amp rates:  (965.3573412423953, 90.55873880250151, 124.4842563166935)\n",
    "# Emit times from emit rates: (965.3573412423953, 90.55873880250151, 124.4842563166935)"
   ]
  },
  {
   "cell_type": "code",
   "execution_count": 4,
   "id": "7057680d-c9af-4890-bed5-6ee621a071ba",
   "metadata": {},
   "outputs": [
    {
     "data": {
      "text/plain": [
       "TwissTable: 18657 rows, 62 cols\n",
       "name                    s             x            px             y            py          zeta ...\n",
       "sps$start               0             0             0             0             0             0\n",
       "begi.10010              0             0             0             0             0             0\n",
       "drift_0                 0             0             0             0             0             0\n",
       "qf.10010..1        0.3085             0             0             0             0             0\n",
       "drift_1            0.3085             0             0             0             0             0\n",
       "qf.10010..2       1.13117             0             0             0             0             0\n",
       "drift_2           1.13117             0             0             0             0             0\n",
       "qf.10010           1.5425             0             0             0             0             0\n",
       "drift_3            1.5425             0             0             0             0             0\n",
       "qf.10010..3       1.95383             0             0             0             0             0\n",
       "...\n",
       "drift_9322         6910.98             0             0             0             0             0\n",
       "mdh.63607..3       6911.03             0             0             0             0             0\n",
       "drift_9323         6911.03             0             0             0             0             0\n",
       "mdh.63607..4       6911.11             0             0             0             0             0\n",
       "drift_9324         6911.11             0             0             0             0             0\n",
       "bph.63608          6911.27             0             0             0             0             0\n",
       "drift_9325         6911.27             0             0             0             0             0\n",
       "end.10010           6911.5             0             0             0             0             0\n",
       "sps$end             6911.5             0             0             0             0             0\n",
       "_end_point          6911.5             0             0             0             0             0"
      ]
     },
     "execution_count": 4,
     "metadata": {},
     "output_type": "execute_result"
    }
   ],
   "source": [
    "tw"
   ]
  }
 ],
 "metadata": {
  "kernelspec": {
   "display_name": "Python 3 (ipykernel)",
   "language": "python",
   "name": "python3"
  },
  "language_info": {
   "codemirror_mode": {
    "name": "ipython",
    "version": 3
   },
   "file_extension": ".py",
   "mimetype": "text/x-python",
   "name": "python",
   "nbconvert_exporter": "python",
   "pygments_lexer": "ipython3",
   "version": "3.13.2"
  }
 },
 "nbformat": 4,
 "nbformat_minor": 5
}
