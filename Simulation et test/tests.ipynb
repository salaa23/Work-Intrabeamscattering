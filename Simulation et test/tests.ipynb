{
 "cells": [
  {
   "cell_type": "code",
   "execution_count": 1,
   "id": "0acfd101-612e-4f4f-8943-87a78a9190e1",
   "metadata": {},
   "outputs": [],
   "source": [
    "import xfields as xf\n",
    "import xobjects as xo\n",
    "import xpart as xp\n",
    "import xtrack as xt\n",
    "import json\n",
    "import matplotlib.pyplot as plt\n",
    "import numpy as np\n",
    "import xtrack as xt"
   ]
  },
  {
   "cell_type": "code",
   "execution_count": 1,
   "id": "69d1518d-9712-4a53-b1fb-1dc0deeae1ff",
   "metadata": {
    "collapsed": true,
    "jupyter": {
     "outputs_hidden": true,
     "source_hidden": true
    }
   },
   "outputs": [
    {
     "data": {
      "application/vnd.jupyter.widget-view+json": {
       "model_id": "2ee25156ee3d4056accce249a62c3ad1",
       "version_major": 2,
       "version_minor": 0
      },
      "text/plain": [
       "Loading line from dict:   0%|          | 0/18656 [00:00<?, ?it/s]"
      ]
     },
     "metadata": {},
     "output_type": "display_data"
    },
    {
     "name": "stdout",
     "output_type": "stream",
     "text": [
      "Done loading line from dict.           \n"
     ]
    },
    {
     "ename": "KeyError",
     "evalue": "'particle'",
     "output_type": "error",
     "traceback": [
      "\u001b[31m---------------------------------------------------------------------------\u001b[39m",
      "\u001b[31mKeyError\u001b[39m                                  Traceback (most recent call last)",
      "\u001b[36mCell\u001b[39m\u001b[36m \u001b[39m\u001b[32mIn[1]\u001b[39m\u001b[32m, line 20\u001b[39m\n\u001b[32m     17\u001b[39m     input_data = json.load(fid)\n\u001b[32m     19\u001b[39m line = xt.Line.from_json(fname_line_particles)\n\u001b[32m---> \u001b[39m\u001b[32m20\u001b[39m line.particle_ref = xt.Particles.from_dict(\u001b[43minput_data\u001b[49m\u001b[43m[\u001b[49m\u001b[33;43m\"\u001b[39;49m\u001b[33;43mparticle\u001b[39;49m\u001b[33;43m\"\u001b[39;49m\u001b[43m]\u001b[49m)\n\u001b[32m     21\u001b[39m tw = line.twiss(method=\u001b[33m\"\u001b[39m\u001b[33m4d\u001b[39m\u001b[33m\"\u001b[39m)\n\u001b[32m     23\u001b[39m \u001b[38;5;66;03m#####################\u001b[39;00m\n\u001b[32m     24\u001b[39m \u001b[38;5;66;03m# Define parameters #\u001b[39;00m\n\u001b[32m     25\u001b[39m \u001b[38;5;66;03m#####################\u001b[39;00m\n\u001b[32m     26\u001b[39m \n\u001b[32m     27\u001b[39m \u001b[38;5;66;03m# Line is for LHC protons at top energy\u001b[39;00m\n",
      "\u001b[31mKeyError\u001b[39m: 'particle'"
     ]
    }
   ],
   "source": [
    "'''\n",
    "Author: Adnan Ghribi\n",
    "Date: 2023-10-03\n",
    "Description: This file contains utility functions for the v11 classes.\n",
    "'''\n",
    "\n",
    "# Import the necessary packages\n",
    "import json, sys, os, warnings, random, string, shutil\n",
    "import numpy as np\n",
    "from astropy.io import ascii\n",
    "if not sys.warnoptions:\n",
    "    warnings.simplefilter(\"ignore\")\n",
    "from tqdm import tqdm\n",
    "import scipy.constants as cons\n",
    "import xtrack as xt\n",
    "import xpart as xp\n",
    "import xfields as xf\n",
    "import xobjects as xo\n",
    "import xcoll as xc\n",
    "import xwakes as xw\n",
    "#\n",
    "\n",
    "def dump_data(filename, output):\n",
    "    with open(filename, 'w') as json_file:\n",
    "        json.dump(output, json_file)\n",
    "\n",
    "def make_unique(filename):\n",
    "    make_unique = lambda filename: f\"{filename.rsplit('.', 1)[0]}_{''.join(random.choices(string.ascii_lowercase + string.digits, k=8))}.{filename.rsplit('.', 1)[1]}\"\n",
    "    new_name = make_unique(filename)\n",
    "    return new_name\n",
    "\n",
    "\n",
    "class beam_param:\n",
    "    \"\"\"\n",
    "    Class to define the beam parameters from input file\n",
    "    \"\"\"\n",
    "    def __init__(self, mode, **kw):\n",
    "        if mode == None:\n",
    "            print('No mode entered -> default = z')\n",
    "            mode = 'z'\n",
    "        self.filename()\n",
    "        self.read_param(mode)\n",
    "        self.set_param()\n",
    "\n",
    "    def filename(self):\n",
    "        # parent_dir = os.path.dirname(os.path.dirname(os.getcwd()))\n",
    "        input_dir = '_inputs/'#parent_dir + '/input_data/'\n",
    "        self.filename = input_dir + 'Booster_parameter_table.json'\n",
    "        \n",
    "    def read_param(self, mode):\n",
    "        inputs_tab = json.load(open(self.filename))\n",
    "        print(inputs_tab.keys())\n",
    "\n",
    "        # define variables\n",
    "        self.C = inputs_tab['C']['value'] # circumference [m]\n",
    "        self.Np = inputs_tab['Np'][mode] # number of particles per bunch\n",
    "        self.Nb = inputs_tab['Nb'][mode] # number of bunches\n",
    "        self.Etot = inputs_tab['E']['injection'] # energy at injection [eV]\n",
    "        self.epsnx = inputs_tab['bunch']['epsnx']['value'] # normalised horizontal emittance [m]\n",
    "        self.epsny = inputs_tab['bunch']['epsny']['value'] # normalised horizontal emittance [m]\n",
    "        self.sigmaz = inputs_tab['bunch']['sigmaz']['value'] # bunch length at injection [m]\n",
    "        self.sigmae = inputs_tab['bunch']['sigmae']['value'] # energy spread at injection\n",
    "        self.Qx = inputs_tab['optics']['Qx'][mode] # horizontal tune\n",
    "        self.Qy = inputs_tab['optics']['Qy'][mode] # vertical tune\n",
    "        self.chix = inputs_tab['optics']['chix'][mode] # horizontal chromaticity\n",
    "        self.chiy = inputs_tab['optics']['chiy'][mode] # horizontal chromaticity\n",
    "        self.alpha = inputs_tab['optics']['alpha'][mode] # momentum compaction\n",
    "        self.I2 = inputs_tab['optics']['I2'][mode] # 2nd synchrotron integral\n",
    "        self.I3 = inputs_tab['optics']['I3'][mode] # 3rd synchrotron integral\n",
    "        self.I5 = inputs_tab['optics']['I5'][mode] # 5th synchrotron integral\n",
    "        self.I6 = 0 # 6th synchrotron integral\n",
    "        self.dpt = inputs_tab['optics']['dpt'][mode] # maximum energy acceptance at injection\n",
    "        self.damp_xy = inputs_tab['optics']['damp_xy'][mode] # transverse damping time at injection energy\n",
    "        self.damp_s = inputs_tab['optics']['damp_s'][mode] # longitudinal damping time at injection energy\n",
    "        self.coupling = inputs_tab['optics']['coupling'][mode] # horizontal vertical coupling\n",
    "        self.Cq = 3.8319e-13\n",
    "        self.Cgamma = 8.846e-05\n",
    "        self.Erest = 510998.9499961642 # rest energy [eV]\n",
    "        self.Egain = 0 # energy gain [eV]\n",
    "        self.freq = inputs_tab['RF']['RF_freq'][mode] # RF frequency [Hz]\n",
    "        self.Vtot = inputs_tab['RF']['Vtot'][mode] # total cavities voltage [eV]\n",
    "        self.Qs = inputs_tab['RF']['Qs_inj'][mode] # synchronous tune at injection\n",
    "        self.phi_s = inputs_tab['RF']['phis_inj'][mode] # synchronous phase at injection\n",
    "        \n",
    "    def set_param(self):\n",
    "        self.lambdaRF = cons.c/self.freq # RF wavelength\n",
    "        self.frev = cons.c/self.C # revolution frequency\n",
    "        self.h = self.freq/self.frev # Schottky number\n",
    "        self.U0 = self.Cgamma*(self.Etot*1e-9)**4/2/np.pi*self.I2*1e9 # Synchrotron energy loss per turn\n",
    "        self.gamma = self.Etot / self.Erest\n",
    "        self.sig_e_eq = np.sqrt(self.Cq*self.gamma**2*self.I3/(2*self.I2))#*(self.Etot*1e-9)**2)\n",
    "        self.emit_eq = self.Cq * self.gamma**2 * self.I5 / self.I2 # geometrical equilibrium emittance\n",
    "        self.epsnx_eq = self.emit_eq * self.gamma # normalized equilibrium emittance X\n",
    "        self.epsny_eq = self.epsnx_eq * 2e-3 # normalized equilibrium emittance Y\n",
    "        self.eta = 1/self.gamma**2-self.alpha # momentum compaction\n",
    "\n",
    "class _collective_():\n",
    "    '''\n",
    "    Class for tracking with collective effects\n",
    "    Usage:\n",
    "    _inputs = {\n",
    "    'bunch_intensity' : bunch_intensity,\n",
    "    'n_turns' : n_turns, # number of turns\n",
    "    'n_macroparticles' : n_macroparticles,\n",
    "    'optics_file' : fodo_json, # optics file in json format\n",
    "    'ibs' : ibs, # boolean\n",
    "    'wake' : wake, # boolean\n",
    "    'detuning' : detuning, # boolean\n",
    "    'dispersion' : dispersion, # boolean\n",
    "    'origin' : origin, # can be \"map\" or \"lattice\" for tracking through the whole lattice or the linear map\n",
    "    'kernel': kernel, # kernel to be used, can be 'cpu' or 'gpu' or 'omp'\n",
    "    'comp' : 'bench',\n",
    "    'comment': 'no wake, no gaussian noise, no dispersion, no detuning'\n",
    "}\n",
    "    '''\n",
    "    # initialize the class\n",
    "    def __init__(self, _inputs=None, **kw):\n",
    "        print ('== loading inputs ==')\n",
    "        self._set_defaults()\n",
    "        if _inputs is not None:\n",
    "            for key, value in _inputs.items():\n",
    "                setattr(self, key, value)\n",
    "                print(key, value)\n",
    "        else:\n",
    "            print('Some input parameters are missing')\n",
    "        print('\\n== setting defaults ==')\n",
    "        print('\\n== setting parameters ==')\n",
    "        self._set_params()\n",
    "        self._set_path()\n",
    "        print('\\n== setting line ==\\n')\n",
    "        self._set_line_param()\n",
    "        print('\\n== calculating one turn map ==\\n')\n",
    "        self._set_map()\n",
    "        print('\\n== setting IBS ==\\n')\n",
    "        self._set_ibs()\n",
    "        print('\\n== creating bunch ==\\n')\n",
    "        self._set_bunch()\n",
    "        # print('\\n== setting wake ==\\n')\n",
    "        # self._set_wake()\n",
    "        print('\\n== setting monitor ==\\n')\n",
    "        self._set_monitor()\n",
    "        \n",
    "    def _set_defaults(self):\n",
    "        # input files\n",
    "        self.input_dir = '_inputs/'\n",
    "        self.optics_file = self.input_dir + 'heb_ring_withcav.json' # optics file\n",
    "        self.mass =xp.ELECTRON_MASS_EV # mass of the particle\n",
    "        self.q0 = -1 # charge of the particle\n",
    "        self.wakefile = self.input_dir + 'heb_wake_round_cu_30.0mm.csv' # wake file\n",
    "        # slicing parameters\n",
    "        self.n_slices_wake = 500\n",
    "        self.slicing_mode = 'fixed_cuts' # can be 'fixed_cuts' or 'from_first_to_last_particles'\n",
    "        self.fixed_cuts_perc_min_max = 0.50\n",
    "        # chunk size for tracking\n",
    "        self.chunk_size = 1000\n",
    "        # IBS parameters\n",
    "        self.n_slices_ibs = 50\n",
    "        self.ibs_formalism = 'nagaitsev' # can be 'nagaitsev' or 'kinetic'\n",
    "        # bunch parameters\n",
    "        self.bunch = 'matched' # can be 'matched' or 'unmatched'\n",
    "        \n",
    "    def _set_params(self, **kw):\n",
    "        param = beam_param(self.mode)\n",
    "        for key, value in param.__dict__.items():\n",
    "            setattr(self, key, value) \n",
    "        self.limit_z = 3 * self.sigmaz\n",
    "        if self.kernel == 'gpu':\n",
    "            self.context = xo.ContextCupy()\n",
    "        elif self.kernel == 'omp':\n",
    "            self.context = xo.ContextCpu(omp_num_threads=\"auto\")\n",
    "        else:\n",
    "            self.context = xo.ContextCpu()\n",
    "        self.n_chunk = int(np.ceil(self.n_turns/self.chunk_size))\n",
    "        self.lag_rf = 180\n",
    "    \n",
    "    def _set_path(self):\n",
    "        parent_dir = os.getcwd()#os.path.dirname(os.getcwd())\n",
    "        self.input_dir = parent_dir + '/_inputs'\n",
    "        if self.dir_name is not None:\n",
    "            self.dir_ = self.dir_name + '/'\n",
    "        else:\n",
    "            self.dir_ = 'part' + str(int(self.Np/1e10)) + 'e10_freq' + str(int(self.freq*1e-6)) + '_sz'+str(self.sigmaz) + '_mode_'+self.mode+'/'\n",
    "        if self.comp == 'feynman':\n",
    "            self.res_directory = parent_dir + '/.results/results_feynman/' + self.dir_\n",
    "        if self.comp == 'ccin2p3':\n",
    "            self.res_directory = parent_dir + '/.results/results_ccin2p3/' + self.dir_\n",
    "        elif self.comp == 'lxplus':\n",
    "            self.res_directory = '/eos/project-f/fcc-ee-ce/Adnan/_dev_collective_effects/fccee_collective_effects/pyhdt_heb/heb_single_bunch/.results/results_lxplus/' + self.dir_\n",
    "        elif self.comp == 'bench':\n",
    "            self.res_directory = parent_dir + '/_outputs/'+ self.dir_\n",
    "        self.fig_directory = self.res_directory + 'figures/'\n",
    "        self.data_directory = self.res_directory +'data/'\n",
    "        if os.path.exists(self.res_directory)==False:\n",
    "            os.makedirs(self.res_directory)\n",
    "        if os.path.exists(self.fig_directory)==False:\n",
    "            os.makedirs(self.fig_directory)\n",
    "        if os.path.exists(self.data_directory)==False:\n",
    "            os.makedirs(self.data_directory)\n",
    "        if os.path.exists(self.data_directory + 'moments')==False:\n",
    "            os.makedirs(self.data_directory + 'moments')\n",
    "        delete_folder = False\n",
    "        if os.path.exists(self.fig_directory) and delete_folder:    \n",
    "            shutil.rmtree(self.fig_directory)\n",
    "            os.makedirs(self.fig_directory)\n",
    "        folders_names = ['', 'phasespaces_xxp', 'phasespaces_yyp', 'phasespaces_zdp',\n",
    "                     'profile_x', 'profile_y', 'profile_z'\n",
    "                     ]\n",
    "        for i in folders_names:\n",
    "            try:\n",
    "                os.makedirs(self.fig_directory+i)\n",
    "            except:\n",
    "                pass \n",
    "        \n",
    "    def _set_line_param(self):\n",
    "        self.line = xt.Line.from_json(self.optics_file) # import lattice\n",
    "        self.particle_ref = xp.Particles(mass0=self.mass, q0=self.q0, gamma0=self.gamma) # define reference particle\n",
    "        self.line.particle_ref  = self.particle_ref # assign reference particle to the line\n",
    "        self.line.slice_thick_elements( slicing_strategies=[\n",
    "        # Slicing with thin elements\n",
    "            xt.Strategy(slicing=xt.Teapot(2)), # (1) Default applied to all elements\n",
    "            xt.Strategy(slicing=xt.Teapot(3), element_type=xt.Bend), # (2) Selection by element type\n",
    "            xt.Strategy(slicing=xt.Teapot(5), element_type=xt.Quadrupole),  # (4) Selection by element type\n",
    "            xt.Strategy(slicing=xt.Teapot(3), element_type=xt.Sextupole),  # (4) Selection by element type\n",
    "        ])\n",
    "        print('building tracker')\n",
    "        self.line.build_tracker() # build the tracker\n",
    "        print('configuring radiation')\n",
    "        self.line.configure_radiation(model='mean') # configure radiation\n",
    "        self.env = self.line.env\n",
    "        print('calculating twiss')\n",
    "        self.tw = self.line.twiss(method=\"6d\", eneloss_and_damping=True) # get twiss parameters\n",
    "        self.C = self.tw.s[-1] # circumference\n",
    "        self.qx = self.tw.qx # horizontal tune\n",
    "        self.qy = self.tw.qy # vertical tune\n",
    "        self.dqx = self.tw.dqx # horizontal chromaticity\n",
    "        self.dqy = self.tw.dqy # vertical chromaticity\n",
    "        self.eneloss_turn = self.tw.eneloss_turn\n",
    "        df = self.tw.to_pandas() # convert to pandas dataframe\n",
    "        betax_0 = self.C / (2*np.pi*self.tw.qx) # betax from the tune\n",
    "        # betay_0 = self.param.C / (2*np.pi*self.params.Qy) # betax from the tune\n",
    "        # the 10 closest values to the betax_0\n",
    "        df['distance'] = abs(df.betx - betax_0)\n",
    "        closest = df.nsmallest(10, 'distance')\n",
    "        closest = closest.drop('distance', axis=1)\n",
    "        self.index = closest.dx.idxmin()\n",
    "        self.betax = closest.betx[self.index] # horizontal beta function from the twiss\n",
    "        self.betay = closest.bety[self.index] # vertical beta function from the twiss\n",
    "        self.alphax = closest.alfx[self.index] # horizontal alpha function from the twiss\n",
    "        self.alphay = closest.alfy[self.index] # vertical alpha function from the twiss\n",
    "        if self.dispersion==True:\n",
    "            self.dx = closest.dx[self.index] # horizontal dispersion from the twiss\n",
    "            self.dy = closest.dy[self.index] # vertical dispersion from the twiss\n",
    "        else:\n",
    "            self.dx = 0\n",
    "            self.dy = 0\n",
    "        # get amplitude detuning coefficients\n",
    "        if self.detuning==True:\n",
    "            print('Extracting detuning coefficients')\n",
    "            det_= self.line.get_amplitude_detuning_coefficients(\n",
    "                nemitt_x=self.epsnx, \n",
    "                nemitt_y=self.epsny, \n",
    "                num_turns=500, \n",
    "                a0_sigmas=0.01, \n",
    "                a1_sigmas=0.1, \n",
    "                a2_sigmas=0.2\n",
    "            )\n",
    "            self.det_xx = det_['det_xx']\n",
    "            self.det_yy = det_['det_yy']\n",
    "            self.det_xy = det_['det_xy']\n",
    "            self.det_yx = det_['det_yx']\n",
    "        else:\n",
    "            self.det_xx = 0\n",
    "            self.det_yy = 0\n",
    "            self.det_xy = 0\n",
    "            self.det_yx = 0\n",
    "        # get synchrotron parameters\n",
    "        self.damping_rate_emit_h = 2 * self.tw.damping_constants_turns[0] # horizontal damping rate\n",
    "        self.damping_rate_emit_v = 2 * self.tw.damping_constants_turns[1] # horizontal damping rate\n",
    "        self.damping_rate_emit_zeta = 2 * self.tw.damping_constants_turns[2] # longitudinal damping rate\n",
    "        # Compute gaussian noise amplitudes to model quantum excitation\n",
    "        if self.gaussian_noise==True:\n",
    "            self.gauss_noise_ampl_px = 2 * np.sqrt(self.tw.eq_gemitt_x * self.damping_rate_emit_h / self.tw.betx[self.index])\n",
    "            self.gauss_noise_ampl_x = 0\n",
    "            self.gauss_noise_ampl_py = 2 * np.sqrt(self.tw.eq_gemitt_y * self.damping_rate_emit_h / self.tw.bety[self.index])\n",
    "            self.gauss_noise_ampl_y = 0.\n",
    "            self.gauss_noise_ampl_delta = 2 * np.sqrt(self.tw.eq_gemitt_zeta * self.damping_rate_emit_zeta / self.tw.bets0)\n",
    "    \n",
    "    def _set_map(self):\n",
    "        self.map =  xt.LineSegmentMap(\n",
    "                    length=self.C,\n",
    "                    qx=self.qx,\n",
    "                    qy=self.qy,\n",
    "                    dqx=self.dqx,\n",
    "                    dqy=self.dqy,\n",
    "                    momentum_compaction_factor=self.alpha,\n",
    "                    betx=self.betax,\n",
    "                    bety=self.betay,\n",
    "                    alfx=self.alphax,\n",
    "                    alfy=self.alphay,\n",
    "                    dx = self.dx,\n",
    "                    dy = self.dy,\n",
    "                    det_xx=self.det_xx,\n",
    "                    det_xy=self.det_xy,\n",
    "                    det_yx=self.det_yx,\n",
    "                    det_yy=self.det_yy,  \n",
    "                    damping_rate_x=  self.damping_rate_emit_h,\n",
    "                    damping_rate_y=  self.damping_rate_emit_v,\n",
    "                    # In longitudinal all damping goes on the momentum\n",
    "                    damping_rate_zeta=0,\n",
    "                    damping_rate_pzeta=2 * self.tw.damping_constants_turns[2],\n",
    "                    gauss_noise_ampl_px=self.gauss_noise_ampl_px,\n",
    "                    gauss_noise_ampl_py=self.gauss_noise_ampl_py,\n",
    "                    gauss_noise_ampl_pzeta=self.gauss_noise_ampl_delta,\n",
    "                    energy_increment           = -1 * self.eneloss_turn,#M.U0,\n",
    "                    longitudinal_mode          = 'nonlinear', # needs to be commented for 4D tracking + uncomment betas/qs\n",
    "                    voltage_rf                 = [self.Vtot], # needs to be commented for 4D tracking + uncomment betas/qs\n",
    "                    frequency_rf               = [self.freq], # needs to be commented for 4D tracking + uncomment betas/qs\n",
    "                    lag_rf                     = [180 - np.rad2deg(np.arcsin(self.eneloss_turn/self.Vtot))], # needs to be commented for 4D tracking + uncomment betas/qs\n",
    "                )\n",
    "        \n",
    "        ring_map_no_excit = self.map.copy()\n",
    "        self.env.elements['ring_map'] = self.map\n",
    "        ring_map_no_excit.gauss_noise_matrix = 0\n",
    "        self.lring = xt.Line(elements=[ring_map_no_excit])\n",
    "        self.lring._needs_rng = True\n",
    "        self.lring.particle_ref = self.particle_ref.copy()\n",
    "        tw_check = self.lring.twiss()\n",
    "        self.lring.correct_trajectory(twiss_table=self.lring.twiss4d())\n",
    "        \n",
    "    def _set_ibs(self):\n",
    "        if self.ibs == True:\n",
    "            ibs_kick = xf.IBSKineticKick(num_slices=self.n_slices_ibs)\n",
    "            self.line.configure_intrabeam_scattering(element=ibs_kick, \n",
    "                                                     name=\"ibskick\", \n",
    "                                                     index=self.index, \n",
    "                                                     update_every=1)\n",
    "            if self.ibs_formalism == 'nagaitsev':\n",
    "                ibs_kick = xf.IBSAnalyticalKick(formalism=\"B&M\", num_slices=self.n_slices_ibs)\n",
    "            elif self.ibs_formalism == 'kinetic':\n",
    "                ibs_kick = xf.IBSKineticKick(num_slices=self.n_slices_ibs)\n",
    "            self.line_map = self.env.new_line(name='line_map', components=['ring_map', 'ibskick'])\n",
    "        else:\n",
    "            self.line_map = self.env.new_line(name='line_map', components=['ring_map'])\n",
    "        \n",
    "        self.line_map.particle_ref = self.particle_ref.copy()\n",
    "        self.line_map._needs_rng = True\n",
    "    \n",
    "    def _set_bunch(self):\n",
    "        rng = np.random.RandomState(42)\n",
    "        x_norm = rng.randn(self.n_macroparticles)\n",
    "        px_norm = rng.randn(self.n_macroparticles)\n",
    "        y_norm = rng.randn(self.n_macroparticles)\n",
    "        py_norm = rng.randn(self.n_macroparticles)\n",
    "        zeta = self.sigmaz * (rng.randn(self.n_macroparticles))\n",
    "        delta = self.sigmae * (rng.randn(self.n_macroparticles))\n",
    "        if self.bunch == 'matched':\n",
    "            self.particles = xp.generate_matched_gaussian_bunch(\n",
    "                num_particles=self.n_macroparticles,\n",
    "                nemitt_x=self.epsnx,\n",
    "                nemitt_y=self.epsny,\n",
    "                sigma_z=self.sigmaz,\n",
    "                total_intensity_particles=self.Np,\n",
    "                line=self.lring,\n",
    "                _context=self.context,\n",
    "            )\n",
    "        else:\n",
    "            self.particles = self.lring.build_particles(\n",
    "                _context=xo.ContextCpu(), \n",
    "                _buffer=None, \n",
    "                _offset=None,\n",
    "                particle_ref=self.particle_ref,\n",
    "                zeta=zeta, \n",
    "                delta=delta,\n",
    "                x_norm=x_norm, \n",
    "                px_norm=px_norm,\n",
    "                y_norm=y_norm, \n",
    "                py_norm=py_norm,\n",
    "                nemitt_x=self.epsnx, \n",
    "                nemitt_y=self.epsny,\n",
    "                weight=self.Np/self.n_macroparticles)\n",
    "        \n",
    "    def _set_wake(self):\n",
    "        # slicing strategy\n",
    "        if self.slicing_mode == 'from_first_to_last_particles':\n",
    "            initial_cut_tail_z = np.min(self.particles.zeta) \n",
    "            initial_cut_head_z = np.max(self.particles.zeta)\n",
    "        elif self.slicing_mode == 'fixed_cuts':\n",
    "            initial_cut_tail_z = np.min(self.particles.zeta) - 0.5*(np.max(self.particles.zeta)-np.min(self.particles.zeta))\n",
    "            initial_cut_head_z = np.max(self.particles.zeta) + 0.5*(np.max(self.particles.zeta)-np.min(self.particles.zeta))\n",
    "        #\n",
    "        T = ascii.read(self.wakefile)\n",
    "        temp_file = make_unique('temp.txt')\n",
    "        np.savetxt(temp_file, np.transpose(np.array(T)))\n",
    "        wake_df = xw.read_headtail_file(\n",
    "            temp_file, [\"time\", \"longitudinal\", \"dipole_x\", \"dipole_y\"])\n",
    "        wf_xw = xw.WakeFromTable(wake_df,\n",
    "            [\"longitudinal\", \"dipole_x\", \"dipole_y\"])\n",
    "        wf_xw.configure_for_tracking(\n",
    "            zeta_range=(initial_cut_tail_z, initial_cut_head_z),\n",
    "            num_slices=self.n_slices_wake)\n",
    "        os.remove(temp_file)\n",
    "        self.line_map.append('wake_field', wf_xw)\n",
    "    \n",
    "    def _set_monitor(self):\n",
    "        self.emit_mon = xc.EmittanceMonitor.install(line=self.line_map, \n",
    "                                name=\"EmittanceMonitor\", \n",
    "                                at=0, stop_at_turn=self.n_turns)\n",
    "    \n",
    "    def _set_radiation(self):\n",
    "        self.line_map.build_tracker()\n",
    "        self.line_map.configure_radiation(model='quantum')\n",
    "        \n",
    "    def _track(self):\n",
    "        pbar = tqdm(range(self.n_chunk))\n",
    "        mean_x  = []\n",
    "        mean_y  = []\n",
    "        mean_z  = []\n",
    "        mean_e = []\n",
    "        sigma_x = []\n",
    "        sigma_y = []\n",
    "        sigma_z = []\n",
    "        sigma_e = []\n",
    "        for i in pbar:\n",
    "            pbar.set_description(f'Chunk {i+1}/{self.n_chunk}')\n",
    "            monitor = xt.ParticlesMonitor(_context= self.context,\n",
    "                    start_at_turn=i_chunk*self.chunk_size, \n",
    "                    stop_at_turn=(i_chunk+1)*self.chunk_size,\n",
    "                    num_particles=self.n_macroparticles)\n",
    "            self.line_map.track(self.particles, \n",
    "                                num_turns=self.chunk_size, \n",
    "                                turn_by_turn_monitor=monitor, \n",
    "                                with_progress=False)\n",
    "            mean_x[i_chunk*chunk_size:(i_chunk+1)*chunk_size]   = np.average(monitor.x,axis=0)\n",
    "            mean_y[i_chunk*chunk_size:(i_chunk+1)*chunk_size]   = np.average(monitor.y,axis=0)\n",
    "            mean_z[i_chunk*chunk_size:(i_chunk+1)*chunk_size]   = np.average(monitor.zeta,axis=0)\n",
    "            mean_e[i_chunk*chunk_size:(i_chunk+1)*chunk_size]   = np.average(monitor.delta,axis=0)\n",
    "            sigma_x[i_chunk*chunk_size:(i_chunk+1)*chunk_size]  = np.std(monitor.x,axis=0)\n",
    "            sigma_y[i_chunk*chunk_size:(i_chunk+1)*chunk_size]  = np.std(monitor.y,axis=0)\n",
    "            sigma_z[i_chunk*chunk_size:(i_chunk+1)*chunk_size]  = np.std(monitor.zeta,axis=0)\n",
    "            sigma_e[i_chunk*chunk_size:(i_chunk+1)*chunk_size]  = np.std(monitor.delta,axis=0)\n",
    "            \n",
    "            output = {\n",
    "                'epsx' : {\n",
    "                    'value' : emit_mon.gemitt_x.tolist(),\n",
    "                    'label' : r'$\\epsilon_x$'\n",
    "                },\n",
    "                'epsy' : {\n",
    "                    'value': emit_mon.gemitt_y.tolist(),\n",
    "                    'label': r'$\\epsilon_y$'\n",
    "                },\n",
    "                'meanx' : {\n",
    "                    'value': list(mean_x),\n",
    "                    'label' : r'$\\bar{x}$'\n",
    "                },\n",
    "                'meany' : {\n",
    "                    'value': list(mean_y),\n",
    "                    'label' : r'$\\bar{y}$'\n",
    "                },\n",
    "                'meanz' : {\n",
    "                    'value': list(mean_z),\n",
    "                    'label' : r'$\\bar{z}$'\n",
    "                },\n",
    "                'meane' : {\n",
    "                    'value': list(mean_e),\n",
    "                    'label' : r'$\\bar{e}$'\n",
    "                },\n",
    "                'sigmax' : {\n",
    "                    'value': list(sigma_x),\n",
    "                    'label' : r'$\\sigma_x$'\n",
    "                },\n",
    "                'sigmay' : {\n",
    "                    'value': list(sigma_y),\n",
    "                    'label' : r'$\\sigma_y$'\n",
    "                },\n",
    "                'sigmaz' : {\n",
    "                    'value': list(sigma_z),\n",
    "                    'label' : r'$\\sigma_z$'\n",
    "                },\n",
    "                'sigmae' : {\n",
    "                    'value' : list(sigma_e),\n",
    "                    'label' : r'$\\sigma_e$'\n",
    "                },\n",
    "                'inputs' : self._inputs,\n",
    "                'parameters': self.param,\n",
    "                'comment' : self.comments\n",
    "            }\n",
    "            dump_data(filename, output)"
   ]
  },
  {
   "cell_type": "code",
   "execution_count": null,
   "id": "f6fd1652-3954-4cd6-b0e6-37a89174b4b0",
   "metadata": {},
   "outputs": [],
   "source": []
  },
  {
   "cell_type": "code",
   "execution_count": 2,
   "id": "6c232cb7-6caf-49bb-8104-6b07b0ebd2df",
   "metadata": {
    "collapsed": true,
    "jupyter": {
     "outputs_hidden": true,
     "source_hidden": true
    }
   },
   "outputs": [
    {
     "data": {
      "application/vnd.jupyter.widget-view+json": {
       "model_id": "2587ed01f4d9457ca3fdfe0811eaf15f",
       "version_major": 2,
       "version_minor": 0
      },
      "text/plain": [
       "Loading line from dict:   0%|          | 0/18656 [00:00<?, ?it/s]"
      ]
     },
     "metadata": {},
     "output_type": "display_data"
    },
    {
     "name": "stdout",
     "output_type": "stream",
     "text": [
      "Done loading line from dict.           \n",
      "IBSAmplitudeGrowthRates(Kx=0.000518, Ky=0.00552, Kz=0.00402)\n",
      "IBSEmittanceGrowthRates(Kx=0.00104, Ky=0.011, Kz=0.00803)\n",
      "Initial:         IBSAmplitudeGrowthRates(Kx=0.000518, Ky=0.00552, Kz=0.00402)\n",
      "Converted twice: IBSAmplitudeGrowthRates(Kx=0.000518, Ky=0.00552, Kz=0.00402)\n",
      "Amp times from amp rates:  (1930.7146824851227, 181.11747760493154, 248.96851263301807)\n",
      "Amp times from emit rates: (1930.7146824851227, 181.11747760493154, 248.96851263301807)\n",
      "Emit times from amp rates:  (965.3573412425613, 90.55873880246577, 124.48425631650903)\n",
      "Emit times from emit rates: (965.3573412425613, 90.55873880246577, 124.48425631650903)\n"
     ]
    },
    {
     "data": {
      "application/vnd.jupyter.widget-view+json": {
       "model_id": "5440ab8d4f50472fb2bf4f6093705e27",
       "version_major": 2,
       "version_minor": 0
      },
      "text/plain": [
       "Loading line from dict:   0%|          | 0/8202 [00:00<?, ?it/s]"
      ]
     },
     "metadata": {},
     "output_type": "display_data"
    },
    {
     "name": "stdout",
     "output_type": "stream",
     "text": [
      "Done loading line from dict.           \n",
      "Compiling ContextCpu kernels...\n",
      "Done compiling ContextCpu kernels.\n",
      "Compiling ContextCpu kernels...\n",
      "Done compiling ContextCpu kernels.\n",
      "The line has collective elements.\n",
      "In the twiss computation collective elements are replaced by drifts\n",
      "Compiling ContextCpu kernels...\n",
      "Done compiling ContextCpu kernels.\n"
     ]
    },
    {
     "name": "stderr",
     "output_type": "stream",
     "text": [
      "Ignoring collective elements in particles generation.\n"
     ]
    },
    {
     "name": "stdout",
     "output_type": "stream",
     "text": [
      "*** Maximum RMS bunch length 0.23578845393343895m.\n"
     ]
    },
    {
     "name": "stderr",
     "output_type": "stream",
     "text": [
      "/home/salahfd/anaconda3/envs/acc/lib/python3.13/site-packages/scipy/integrate/_quadpack_py.py:1260: IntegrationWarning: The integral is probably divergent, or slowly convergent.\n",
      "  quad_r = quad(f, low, high, args=args, full_output=self.full_output,\n"
     ]
    },
    {
     "name": "stdout",
     "output_type": "stream",
     "text": [
      "... distance to target bunch length: -8.8206e-02\n",
      "... distance to target bunch length: 1.3947e-01\n",
      "... distance to target bunch length: 9.6746e-02\n",
      "... distance to target bunch length: 1.5628e-03\n",
      "... distance to target bunch length: -1.5040e-04\n",
      "... distance to target bunch length: -3.5986e-07\n",
      "... distance to target bunch length: 1.2839e-07\n",
      "--> Bunch length: 0.08980012839156344\n"
     ]
    },
    {
     "name": "stderr",
     "output_type": "stream",
     "text": [
      "Ignoring collective elements in particles generation.\n"
     ]
    },
    {
     "name": "stdout",
     "output_type": "stream",
     "text": [
      "--> Emittance: 0.05310746640738673\n"
     ]
    },
    {
     "data": {
      "application/vnd.jupyter.widget-view+json": {
       "model_id": "853b4e82047d4e4581c3791f91458e44",
       "version_major": 2,
       "version_minor": 0
      },
      "text/plain": [
       "Tracking:   0%|          | 0/100 [00:00<?, ?it/s]"
      ]
     },
     "metadata": {},
     "output_type": "display_data"
    },
    {
     "name": "stdout",
     "output_type": "stream",
     "text": [
      "Compiling ContextCpu kernels...\n",
      "Done compiling ContextCpu kernels.\n"
     ]
    }
   ],
   "source": [
    "# copyright ################################# #\n",
    "# This file is part of the Xfields Package.   #\n",
    "# Copyright (c) CERN, 2021.                   #\n",
    "# ########################################### #\n",
    "\n",
    "import xtrack as xt\n",
    "\n",
    "##########################\n",
    "# Load xt.Line from file #\n",
    "##########################\n",
    "\n",
    "fname_line_particles = \"line_and_particle.json\"\n",
    "line = xt.Line.from_json(fname_line_particles)\n",
    "tw = line.twiss(method=\"4d\")\n",
    "\n",
    "#####################\n",
    "# Define parameters #\n",
    "#####################\n",
    "\n",
    "# Line is for SPS ions at injection\n",
    "bunch_intensity: int = int(3.5e8)\n",
    "nemitt_x: float = 1.2612e-6\n",
    "nemitt_y: float = 0.9081e-6\n",
    "sigma_delta: float = 3.59e-4\n",
    "bunch_length: float = 19.51e-2\n",
    "\n",
    "####################\n",
    "# Get growth rates #\n",
    "####################\n",
    "\n",
    "# There is no vertical dispersion so Nagaitsev\n",
    "# will be correct in vertical\n",
    "amp_growth_rates = tw.get_ibs_growth_rates(\n",
    "    formalism=\"nagaitsev\",\n",
    "    total_beam_intensity=bunch_intensity,\n",
    "    nemitt_x=nemitt_x,\n",
    "    nemitt_y=nemitt_y,\n",
    "    sigma_delta=sigma_delta,\n",
    "    bunch_length=bunch_length,\n",
    "    bunched=True,\n",
    ")\n",
    "\n",
    "##########################################################\n",
    "# Converting between amplitude and emittance conventions #\n",
    "##########################################################\n",
    "\n",
    "# Notice how, when printing the returned object, it states\n",
    "# the growth rates are given in amplitude convention\n",
    "print(amp_growth_rates)\n",
    "# IBSAmplitudeGrowthRates(Kx=0.000518, Ky=0.00552, Kz=0.00402)\n",
    "\n",
    "# Methods are implemented to convert to the emittance convention\n",
    "emit_growth_rates = amp_growth_rates.to_emittance_growth_rates()\n",
    "print(emit_growth_rates)\n",
    "# IBSEmittanceGrowthRates(Kx=0.00104, Ky=0.011, Kz=0.00803)\n",
    "\n",
    "# It is also possible to convert back to the amplitude convention\n",
    "print(f\"Initial:         {amp_growth_rates}\")\n",
    "print(f\"Converted twice: {emit_growth_rates.to_amplitude_growth_rates()}\")\n",
    "# Initial:         IBSAmplitudeGrowthRates(Kx=0.000518, Ky=0.00552, Kz=0.00402)\n",
    "# Converted twice: IBSAmplitudeGrowthRates(Kx=0.000518, Ky=0.00552, Kz=0.00402)\n",
    "\n",
    "####################################################\n",
    "# Converting between growth rates and growth times #\n",
    "####################################################\n",
    "\n",
    "# Should one want the growth times, a method is available in both\n",
    "# conventions to perform this conversion, although it returns a tuple\n",
    "print(f\"Amp times from amp rates:  {amp_growth_rates.to_amplitude_growth_times()}\")\n",
    "print(f\"Amp times from emit rates: {emit_growth_rates.to_amplitude_growth_times()}\")\n",
    "# Amp times from amp rates:  (1930.7146824847905, 181.11747760500302, 248.968512633387)\n",
    "# Amp times from emit rates: (1930.7146824847905, 181.11747760500302, 248.968512633387)\n",
    "\n",
    "# And it is of course possible to get the emittance\n",
    "# growth times from any of the two conventions\n",
    "print(f\"Emit times from amp rates:  {amp_growth_rates.to_emittance_growth_times()}\")\n",
    "print(f\"Emit times from emit rates: {emit_growth_rates.to_emittance_growth_times()}\")\n",
    "# Emit times from amp rates:  (965.3573412423953, 90.55873880250151, 124.4842563166935)\n",
    "# Emit times from emit rates: (965.3573412423953, 90.55873880250151, 124.4842563166935)# copyright ################################# #\n",
    "# This file is part of the Xfields Package.   #\n",
    "# Copyright (c) CERN, 2021.                   #\n",
    "# ########################################### #\n",
    "import xfields as xf\n",
    "import xobjects as xo\n",
    "import xpart as xp\n",
    "import xtrack as xt\n",
    "\n",
    "context = xo.ContextCpu(omp_num_threads=\"auto\")\n",
    "\n",
    "##########################\n",
    "# Load xt.Line from file #\n",
    "##########################\n",
    "\n",
    "# This is SPS line with proton as particle ref\n",
    "fname_line_particles = \"line_no_spacecharge_and_particle.json\"\n",
    "line: xt.Line = xt.Line.from_json(fname_line_particles)\n",
    "line.build_tracker(_context=context)\n",
    "\n",
    "#######################################\n",
    "# Create and Install IBS Kick Element #\n",
    "#######################################\n",
    "\n",
    "# For the analytical kick formalism: kicks are computed based\n",
    "# on the analytical growth rates (so it needs a formalism)\n",
    "# ibs_kick = xf.IBSAnalyticalKick(formalism=\"nagaitsev\", num_slices=50)\n",
    "\n",
    "# For the kinetic formalism: kicks are computed based on the\n",
    "# friction and diffusion terms of the kinetic theory of gases\n",
    "ibs_kick = xf.IBSKineticKick(num_slices=50)\n",
    "\n",
    "# By default the element is off until configuration. Let's install\n",
    "# the kick at the end of the line and configure it. This internally\n",
    "# provides the necessary information to the element\n",
    "line.configure_intrabeam_scattering(\n",
    "    element=ibs_kick, name=\"ibskick\", index=-1, update_every=50\n",
    ")\n",
    "\n",
    "############################################\n",
    "# Define parameters and Generate Particles #\n",
    "############################################\n",
    "\n",
    "# Line is for SPS protons at injection\n",
    "bunch_intensity: int = int(3.5e8)\n",
    "nemitt_x: float = 2.5e-6\n",
    "nemitt_y: float = 2.5e-6\n",
    "sigma_delta: float = 9.56e-4\n",
    "bunch_length: float = 8.98e-2\n",
    "\n",
    "particles = xp.generate_matched_gaussian_bunch(\n",
    "    num_particles=10_000,\n",
    "    total_intensity_particles=bunch_intensity,\n",
    "    nemitt_x=nemitt_x,\n",
    "    nemitt_y=nemitt_y,\n",
    "    sigma_z=bunch_length,\n",
    "    line=line,\n",
    "    _context=context,\n",
    ")\n",
    "\n",
    "##############################################\n",
    "# Track now applies an IBS kick at each turn #\n",
    "##############################################\n",
    "\n",
    "line.track(particles, num_turns=100, with_progress=5)"
   ]
  },
  {
   "cell_type": "code",
   "execution_count": null,
   "id": "a57456b1-d848-47a8-bdc9-f65529883242",
   "metadata": {
    "collapsed": true,
    "jupyter": {
     "outputs_hidden": true,
     "source_hidden": true
    }
   },
   "outputs": [
    {
     "data": {
      "application/vnd.jupyter.widget-view+json": {
       "model_id": "302b3b08bafc4ae280db7ea3bf034925",
       "version_major": 2,
       "version_minor": 0
      },
      "text/plain": [
       "Loading line from dict:   0%|          | 0/8202 [00:00<?, ?it/s]"
      ]
     },
     "metadata": {},
     "output_type": "display_data"
    },
    {
     "name": "stdout",
     "output_type": "stream",
     "text": [
      "Done loading line from dict.           \n",
      "Compiling ContextCpu kernels...\n",
      "Done compiling ContextCpu kernels.\n",
      "Compiling ContextCpu kernels...\n",
      "Done compiling ContextCpu kernels.\n",
      "The line has collective elements.\n",
      "In the twiss computation collective elements are replaced by drifts\n",
      "Compiling ContextCpu kernels...\n",
      "Done compiling ContextCpu kernels.\n"
     ]
    },
    {
     "name": "stderr",
     "output_type": "stream",
     "text": [
      "Ignoring collective elements in particles generation.\n"
     ]
    },
    {
     "name": "stdout",
     "output_type": "stream",
     "text": [
      "*** Maximum RMS bunch length 0.23578845393343895m.\n"
     ]
    },
    {
     "name": "stderr",
     "output_type": "stream",
     "text": [
      "/home/salahfd/anaconda3/envs/acc/lib/python3.13/site-packages/scipy/integrate/_quadpack_py.py:1260: IntegrationWarning: The integral is probably divergent, or slowly convergent.\n",
      "  quad_r = quad(f, low, high, args=args, full_output=self.full_output,\n"
     ]
    },
    {
     "name": "stdout",
     "output_type": "stream",
     "text": [
      "... distance to target bunch length: -8.8206e-02\n",
      "... distance to target bunch length: 1.3947e-01\n",
      "... distance to target bunch length: 9.6746e-02\n",
      "... distance to target bunch length: 1.5628e-03\n",
      "... distance to target bunch length: -1.5040e-04\n",
      "... distance to target bunch length: -3.5986e-07\n",
      "... distance to target bunch length: 1.2839e-07\n",
      "--> Bunch length: 0.08980012839156344\n"
     ]
    },
    {
     "name": "stderr",
     "output_type": "stream",
     "text": [
      "Ignoring collective elements in particles generation.\n"
     ]
    },
    {
     "name": "stdout",
     "output_type": "stream",
     "text": [
      "--> Emittance: 0.05310746640738673\n"
     ]
    },
    {
     "data": {
      "application/vnd.jupyter.widget-view+json": {
       "model_id": "73c3174ffdc744d78aeb28c47a73247b",
       "version_major": 2,
       "version_minor": 0
      },
      "text/plain": [
       "Tracking:   0%|          | 0/100 [00:00<?, ?it/s]"
      ]
     },
     "metadata": {},
     "output_type": "display_data"
    },
    {
     "name": "stdout",
     "output_type": "stream",
     "text": [
      "Compiling ContextCpu kernels...\n",
      "Done compiling ContextCpu kernels.\n"
     ]
    }
   ],
   "source": [
    "# copyright ################################# #\n",
    "# This file is part of the Xfields Package.   #\n",
    "# Copyright (c) CERN, 2021.                   #\n",
    "# ########################################### #\n",
    "import xfields as xf\n",
    "import xobjects as xo\n",
    "import xpart as xp\n",
    "import xtrack as xt\n",
    "\n",
    "context = xo.ContextCpu(omp_num_threads=\"auto\")\n",
    "\n",
    "##########################\n",
    "# Load xt.Line from file #\n",
    "##########################\n",
    "\n",
    "# This is SPS line with proton as particle ref\n",
    "fname_line_particles = \"line_no_spacecharge_and_particle.json\"\n",
    "line: xt.Line = xt.Line.from_json(fname_line_particles)\n",
    "line.build_tracker(_context=context)\n",
    "\n",
    "#######################################\n",
    "# Create and Install IBS Kick Element #\n",
    "#######################################\n",
    "\n",
    "# For the analytical kick formalism: kicks are computed based\n",
    "# on the analytical growth rates (so it needs a formalism)\n",
    "# ibs_kick = xf.IBSAnalyticalKick(formalism=\"nagaitsev\", num_slices=50)\n",
    "\n",
    "# For the kinetic formalism: kicks are computed based on the\n",
    "# friction and diffusion terms of the kinetic theory of gases\n",
    "ibs_kick = xf.IBSKineticKick(num_slices=50)\n",
    "\n",
    "# By default the element is off until configuration. Let's install\n",
    "# the kick at the end of the line and configure it. This internally\n",
    "# provides the necessary information to the element\n",
    "line.configure_intrabeam_scattering(\n",
    "    element=ibs_kick, name=\"ibskick\", index=-1, update_every=50\n",
    ")\n",
    "\n",
    "############################################\n",
    "# Define parameters and Generate Particles #\n",
    "############################################\n",
    "\n",
    "# Line is for SPS protons at injection\n",
    "bunch_intensity: int = int(3.5e8)\n",
    "nemitt_x: float = 2.5e-6\n",
    "nemitt_y: float = 2.5e-6\n",
    "sigma_delta: float = 9.56e-4\n",
    "bunch_length: float = 8.98e-2\n",
    "\n",
    "particles = xp.generate_matched_gaussian_bunch(\n",
    "    num_particles=10_000,\n",
    "    total_intensity_particles=bunch_intensity,\n",
    "    nemitt_x=nemitt_x,\n",
    "    nemitt_y=nemitt_y,\n",
    "    sigma_z=bunch_length,\n",
    "    line=line,\n",
    "    _context=context,\n",
    ")\n",
    "\n",
    "##############################################\n",
    "# Track now applies an IBS kick at each turn #\n",
    "##############################################\n",
    "\n",
    "line.track(particles, num_turns=100, with_progress=5)"
   ]
  },
  {
   "cell_type": "code",
   "execution_count": 13,
   "id": "7d55fa68-657d-4f9a-90a9-486ec4396d9f",
   "metadata": {
    "collapsed": true,
    "jupyter": {
     "outputs_hidden": true,
     "source_hidden": true
    }
   },
   "outputs": [
    {
     "data": {
      "application/vnd.jupyter.widget-view+json": {
       "model_id": "2d6365b4773943cb838fb4a6dcda612d",
       "version_major": 2,
       "version_minor": 0
      },
      "text/plain": [
       "Loading line from dict:   0%|          | 0/8202 [00:00<?, ?it/s]"
      ]
     },
     "metadata": {},
     "output_type": "display_data"
    },
    {
     "name": "stdout",
     "output_type": "stream",
     "text": [
      "Done loading line from dict.           \n",
      "Compiling ContextCpu kernels...\n",
      "Done compiling ContextCpu kernels.\n",
      "Compiling ContextCpu kernels...\n",
      "Done compiling ContextCpu kernels.\n",
      "The line has collective elements.\n",
      "In the twiss computation collective elements are replaced by drifts\n",
      "Compiling ContextCpu kernels...\n",
      "Done compiling ContextCpu kernels.\n"
     ]
    },
    {
     "name": "stderr",
     "output_type": "stream",
     "text": [
      "Ignoring collective elements in particles generation.\n"
     ]
    },
    {
     "name": "stdout",
     "output_type": "stream",
     "text": [
      "*** Maximum RMS bunch length 0.23578845393343895m.\n"
     ]
    },
    {
     "name": "stderr",
     "output_type": "stream",
     "text": [
      "/home/salahfd/anaconda3/envs/acc/lib/python3.13/site-packages/scipy/integrate/_quadpack_py.py:1260: IntegrationWarning: The integral is probably divergent, or slowly convergent.\n",
      "  quad_r = quad(f, low, high, args=args, full_output=self.full_output,\n"
     ]
    },
    {
     "name": "stdout",
     "output_type": "stream",
     "text": [
      "... distance to target bunch length: -8.8206e-02\n",
      "... distance to target bunch length: 1.3947e-01\n",
      "... distance to target bunch length: 9.6746e-02\n",
      "... distance to target bunch length: 1.5628e-03\n",
      "... distance to target bunch length: -1.5040e-04\n",
      "... distance to target bunch length: -3.5986e-07\n",
      "... distance to target bunch length: 1.2839e-07\n",
      "--> Bunch length: 0.08980012839156344\n"
     ]
    },
    {
     "name": "stderr",
     "output_type": "stream",
     "text": [
      "Ignoring collective elements in particles generation.\n"
     ]
    },
    {
     "name": "stdout",
     "output_type": "stream",
     "text": [
      "--> Emittance: 0.05310746640738673\n"
     ]
    },
    {
     "data": {
      "application/vnd.jupyter.widget-view+json": {
       "model_id": "c9c344bc58e34da1a20f25b5c4496cd8",
       "version_major": 2,
       "version_minor": 0
      },
      "text/plain": [
       "Tracking:   0%|          | 0/100 [00:00<?, ?it/s]"
      ]
     },
     "metadata": {},
     "output_type": "display_data"
    }
   ],
   "source": [
    "import json\n",
    "\n",
    "import xtrack as xt\n",
    "import xpart as xp\n",
    "import xobjects as xo\n",
    "\n",
    "\n",
    "fname_line_particles = \"line_no_spacecharge_and_particle.json\"\n",
    "line: xt.Line = xt.Line.from_json(fname_line_particles)\n",
    "line.build_tracker(_context=context)\n",
    "\n",
    "# ibs_kick = xf.IBSKineticKick(num_slices=50)\n",
    "ibs_kick = xf.IBSAnalyticalKick(formalism=\"B&M\", num_slices=50)\n",
    "\n",
    "\n",
    "\n",
    "line.configure_intrabeam_scattering(\n",
    "    element=ibs_kick, name=\"ibskick\", index=-1, update_every=50\n",
    ")\n",
    "\n",
    "\n",
    "\n",
    "# Line is for SPS protons at injection\n",
    "bunch_intensity: int = int(3.5e8)\n",
    "nemitt_x: float = 2.5e-6\n",
    "nemitt_y: float = 2.5e-6\n",
    "sigma_delta: float = 9.56e-4\n",
    "bunch_length: float = 8.98e-2\n",
    "\n",
    "particles = xp.generate_matched_gaussian_bunch(\n",
    "    num_particles=10_000,\n",
    "    total_intensity_particles=bunch_intensity,\n",
    "    nemitt_x=nemitt_x,\n",
    "    nemitt_y=nemitt_y,\n",
    "    sigma_z=bunch_length,\n",
    "    line=line,\n",
    "    _context=context,\n",
    ")\n",
    "\n",
    "\n",
    "\n",
    "line.track(particles, num_turns=100, with_progress=5)\n",
    "\n",
    "# mon = line.record_last_track\n",
    "# dct = mon.to_dict()\n",
    "\n",
    "# mon2 = xt.ParticlesMonitor.from_dict(dct)"
   ]
  },
  {
   "cell_type": "code",
   "execution_count": 21,
   "id": "29eb3941-3f62-45ff-a4a5-b805ff6cc8c0",
   "metadata": {},
   "outputs": [],
   "source": [
    "moni = line.record_last_track\n"
   ]
  },
  {
   "cell_type": "code",
   "execution_count": 85,
   "id": "bdd14bb3-fdfd-4f70-a153-cbc2c4e19786",
   "metadata": {},
   "outputs": [
    {
     "data": {
      "text/plain": [
       "dict"
      ]
     },
     "execution_count": 85,
     "metadata": {},
     "output_type": "execute_result"
    }
   ],
   "source": []
  },
  {
   "cell_type": "code",
   "execution_count": 2,
   "id": "f25d0143-2217-4eca-961e-2cadb54bb38e",
   "metadata": {},
   "outputs": [
    {
     "data": {
      "application/vnd.jupyter.widget-view+json": {
       "model_id": "cdfe318d01ee4e219c08592d6954765f",
       "version_major": 2,
       "version_minor": 0
      },
      "text/plain": [
       "Loading line from dict:   0%|          | 0/8202 [00:00<?, ?it/s]"
      ]
     },
     "metadata": {},
     "output_type": "display_data"
    },
    {
     "name": "stdout",
     "output_type": "stream",
     "text": [
      "Done loading line from dict.           \n"
     ]
    },
    {
     "name": "stderr",
     "output_type": "stream",
     "text": [
      "/home/salahfd/anaconda3/envs/acc/lib/python3.13/site-packages/xtrack/particles/particles.py:2050: RuntimeWarning: invalid value encountered in sqrt\n",
      "  _beta0 = _sqrt(1 - 1 / gamma0 ** 2)\n"
     ]
    },
    {
     "name": "stdout",
     "output_type": "stream",
     "text": [
      "*** Maximum RMS bunch length 0.23578845393343895m.\n"
     ]
    },
    {
     "name": "stderr",
     "output_type": "stream",
     "text": [
      "/home/salahfd/anaconda3/envs/acc/lib/python3.13/site-packages/scipy/integrate/_quadpack_py.py:1260: IntegrationWarning: The integral is probably divergent, or slowly convergent.\n",
      "  quad_r = quad(f, low, high, args=args, full_output=self.full_output,\n"
     ]
    },
    {
     "name": "stdout",
     "output_type": "stream",
     "text": [
      "... distance to target bunch length: -8.8401e-02\n",
      "... distance to target bunch length: 1.3927e-01\n",
      "... distance to target bunch length: 9.6780e-02\n",
      "... distance to target bunch length: 1.6822e-03\n",
      "... distance to target bunch length: -1.6279e-04\n",
      "... distance to target bunch length: -4.2012e-07\n",
      "... distance to target bunch length: 6.9424e-08\n",
      "--> Bunch length: 0.09000006942424049\n",
      "--> Emittance: 0.05333460973677064\n",
      "The line has collective elements.\n",
      "In the twiss computation collective elements are replaced by drifts\n"
     ]
    }
   ],
   "source": [
    "import json\n",
    "\n",
    "import xtrack as xt\n",
    "import xpart as xp\n",
    "import xobjects as xo\n",
    "\n",
    "context = xo.ContextCpu()\n",
    "\n",
    "mass = xp.ELECTRON_MASS_EV\n",
    "gamma =8.846e-05\n",
    "\n",
    "with open('line_no_spacecharge_and_particle.json') as f:\n",
    "    dct = json.load(f)\n",
    "line = xt.Line.from_dict(dct['line'])\n",
    "line.particle_ref = xt.Particles.from_dict(dct['particle'])\n",
    "# line = xt.Line.from_json('heb_ring_withcav.json') # import lattice\n",
    "particle_ref = xp.Particles(mass0=mass, q0=-1, gamma0=gamma) # define reference particle\n",
    "# line.particle_ref = particle_ref\n",
    "line.build_tracker()\n",
    "\n",
    "num_particles = 50\n",
    "particles = xp.generate_matched_gaussian_bunch(line=line,\n",
    "                                               num_particles=num_particles,\n",
    "                                               nemitt_x=2.5e-6,\n",
    "                                               nemitt_y=2.5e-6,\n",
    "                                               sigma_z=9e-2)\n",
    "\n",
    "ibs = xf.IBSAnalyticalKick(formalism=\"B&M\", num_slices=40)\n",
    "\n",
    "line.configure_intrabeam_scattering(element=ibs, name=\"ibs\", index=-1, update_every=50)\n",
    "\n",
    "num_turns = 100\n",
    "line.track(particles, num_turns=num_turns,\n",
    "              turn_by_turn_monitor=True # <--\n",
    "             )\n",
    "# line.record_last_track contains the measured data. For example,\n",
    "# line.record_last_track.x contains the x coordinate for all particles\n",
    "# and all turns, e.g. line.record_last_track.x[3, 5] for the particle\n",
    "# having particle_id = 3 and for the turn number 5.\n",
    "\n",
    "# Monitor objects can be dumped to a dictionary and loaded back\n",
    "mon = line.record_last_track\n",
    "dct = mon.to_dict()\n",
    "mon2 = xt.ParticlesMonitor.from_dict(dct)\n",
    "\n",
    "# Complete source: xtrack/examples/monitor/000_example_quick_monitor.py"
   ]
  },
  {
   "cell_type": "code",
   "execution_count": 3,
   "id": "007b16f0-b2b0-427e-be29-d9081a3436ef",
   "metadata": {},
   "outputs": [
    {
     "name": "stdout",
     "output_type": "stream",
     "text": [
      "Particles(_capacity=np.int64(1), _num_active_particles=np.int64(1), _num_lost_particles=np.int64(0), start_tracking_at_element=np.int64(-1), q0=1, mass0=9.38e+08, t_sim=2.31e-05, _p0c=array([2.6e+10]), _gamma0=array([27.72854987]), _beta0=array([0.99934949]), s=array([0.]), zeta=array([0.2]), x=array([0.002]), y=array([0.003]), px=array([0.]), py=array([0.]), _ptau=array([0.]), _delta=array([0.]), _rpp=array([1.]), _rvv=array([1.]), chi=array([1.]), charge_ratio=array([1.]), weight=array([1.]), ax=array([0.]), ay=array([0.]), pdg_id=array([0]), particle_id=array([0]), at_element=array([0]), at_turn=array([0]), state=array([1]), parent_particle_id=array([0]), _rng_s1=array([0], dtype=uint32), _rng_s2=array([0], dtype=uint32), _rng_s3=array([0], dtype=uint32), _rng_s4=array([0], dtype=uint32))\n"
     ]
    }
   ],
   "source": [
    "dect = line.env\n",
    "print(dect)"
   ]
  },
  {
   "cell_type": "code",
   "execution_count": 10,
   "id": "e87c45e5-a9e7-4767-b937-99f595a9d902",
   "metadata": {},
   "outputs": [
    {
     "name": "stdout",
     "output_type": "stream",
     "text": [
      "The line has collective elements.\n",
      "In the twiss computation collective elements are replaced by drifts\n",
      "shape is (50, 6000)\n"
     ]
    }
   ],
   "source": [
    "\n",
    "twiss = line.twiss(method=\"6d\",eneloss_and_damping=True)\n",
    "\n",
    "print(\"shape is\",mon.y.shape)\n",
    "betx = twiss[\"betx\"]\n"
   ]
  },
  {
   "cell_type": "code",
   "execution_count": 4,
   "id": "edf2b5f0-2439-4245-b715-f4cc5d99643e",
   "metadata": {
    "scrolled": true
   },
   "outputs": [
    {
     "ename": "NameError",
     "evalue": "name 'betx' is not defined",
     "output_type": "error",
     "traceback": [
      "\u001b[31m---------------------------------------------------------------------------\u001b[39m",
      "\u001b[31mNameError\u001b[39m                                 Traceback (most recent call last)",
      "\u001b[36mCell\u001b[39m\u001b[36m \u001b[39m\u001b[32mIn[4]\u001b[39m\u001b[32m, line 10\u001b[39m\n\u001b[32m      7\u001b[39m sigmax_arr= np.array(sigmax_list)\n\u001b[32m      8\u001b[39m \u001b[38;5;66;03m# ----------------------------\u001b[39;00m\n\u001b[32m      9\u001b[39m \u001b[38;5;66;03m# sigma_x = np.std(mon.x[:,1])\u001b[39;00m\n\u001b[32m---> \u001b[39m\u001b[32m10\u001b[39m betx_avr = np.mean(\u001b[43mbetx\u001b[49m)\n\u001b[32m     12\u001b[39m emit_x = sigmax_arr**\u001b[32m2\u001b[39m/betx_avr\n\u001b[32m     13\u001b[39m \u001b[38;5;66;03m# emit_x = np.mean(sigmax_arr)**2/betx\u001b[39;00m\n",
      "\u001b[31mNameError\u001b[39m: name 'betx' is not defined"
     ]
    }
   ],
   "source": [
    "%matplotlib inline\n",
    "# ---------------sigmax----------\n",
    "sigmax_list = []\n",
    "for i in range(num_turns):\n",
    "    sigmax = np.std(mon.x[:,i], axis=0)\n",
    "    sigmax_list.append(sigmax)\n",
    "sigmax_arr= np.array(sigmax_list)\n",
    "# ----------------------------\n",
    "# sigma_x = np.std(mon.x[:,1])\n",
    "betx_avr = np.mean(betx)\n",
    "\n",
    "emit_x = sigmax_arr**2/betx_avr\n",
    "# emit_x = np.mean(sigmax_arr)**2/betx\n",
    "\n",
    "\n",
    "print(emit_x)\n",
    "# plt.show()\n",
    "plt.plot(emit_x*1e5)\n",
    "# plt.show()\n",
    "# plt.plot(sigmax_arr)\n",
    "# plt.ylim(0,0.2)\n",
    "print(sigmax_arr)"
   ]
  },
  {
   "cell_type": "code",
   "execution_count": 65,
   "id": "172a95c8-da60-4a9b-8a9c-00df032c5e36",
   "metadata": {},
   "outputs": [
    {
     "data": {
      "text/plain": [
       "[<matplotlib.lines.Line2D at 0x774cb5998050>]"
      ]
     },
     "execution_count": 65,
     "metadata": {},
     "output_type": "execute_result"
    },
    {
     "data": {
      "image/png": "[encoded data removed]",
      "text/plain": [
       "<Figure size 640x480 with 1 Axes>"
      ]
     },
     "metadata": {},
     "output_type": "display_data"
    }
   ],
   "source": [
    "mon.\n",
    "# plt.plot(mon.beta0[1,:])"
   ]
  },
  {
   "cell_type": "code",
   "execution_count": 83,
   "id": "134969ae-4351-4e3b-ac20-cc7ac21e9927",
   "metadata": {},
   "outputs": [
    {
     "name": "stdout",
     "output_type": "stream",
     "text": [
      "line\n",
      "particle\n"
     ]
    }
   ],
   "source": [
    "with open('line_no_spacecharge_and_particle.json') as f:\n",
    "    dct = json.load(f)\n",
    "\n",
    "with open('line_no_spacecharge_and_particle.json') as f:\n",
    "    dct_space = json.load(f)\n",
    "\n",
    "line = dct[\"line\"]\n",
    "particle = dct[\"particle\"]\n",
    "\n",
    "for i in dct_space:\n",
    "    # print(10*\"-\")\n",
    "    # for j in dct[i]:\n",
    "    #     print(j)\n",
    "    # print(dct_space[\"elements\"][\"sps$start\"])\n",
    "    # print(10*\"-\")\n",
    "    print(i)\n",
    "# dct_space[\"line\"]\n",
    "# print(dct[\"elements\"][\"sps$start\"])"
   ]
  },
  {
   "cell_type": "code",
   "execution_count": 4,
   "id": "a73b6dd8-f973-4a78-acf2-761f578bfb15",
   "metadata": {},
   "outputs": [],
   "source": [
    "inputs_tab = json.load(open(\"heb_ring_withcav.json\"))"
   ]
  },
  {
   "cell_type": "code",
   "execution_count": 8,
   "id": "1e4e3c75-e56c-4f7d-943f-48b6a4ea1ec7",
   "metadata": {},
   "outputs": [
    {
     "data": {
      "text/plain": [
       "dict_keys(['elements', 'element_names', 'config', '_extra_config', '_var_management_data', '_var_manager', 'metadata'])"
      ]
     },
     "execution_count": 8,
     "metadata": {},
     "output_type": "execute_result"
    }
   ],
   "source": [
    "inputs_tab.keys()"
   ]
  },
  {
   "cell_type": "code",
   "execution_count": 28,
   "id": "1debc2ee-b3a6-4604-af8e-513b19648a24",
   "metadata": {},
   "outputs": [
    {
     "name": "stdout",
     "output_type": "stream",
     "text": [
      "Dictionary written to data.json successfully!\n"
     ]
    }
   ],
   "source": [
    "import json\n",
    "import numpy as np\n",
    "\n",
    "# Sample dictionary with NumPy int64\n",
    "data_dict = dct\n",
    "\n",
    "\n",
    "# Function to convert np.int64 to int\n",
    "def convert_numpy_int(obj):\n",
    "    if isinstance(obj, np.int64):\n",
    "        return int(obj)\n",
    "    elif isinstance(obj, dict):\n",
    "        return {key: convert_numpy_int(value) for key, value in obj.items()}\n",
    "    elif isinstance(obj, list):\n",
    "        return [convert_numpy_int(item) for item in obj]\n",
    "    elif isinstance(obj, np.ndarray):\n",
    "        return obj.tolist()\n",
    "    return obj\n",
    "\n",
    "# Convert all np.int64 values in the dictionary to regular int\n",
    "data_dict = convert_numpy_int(data_dict)\n",
    "\n",
    "# Writing to a JSON file\n",
    "with open('data.json', 'w') as json_file:\n",
    "    json.dump(data_dict, json_file, indent=4)\n",
    "\n",
    "print(\"Dictionary written to data.json successfully!\")\n"
   ]
  },
  {
   "cell_type": "code",
   "execution_count": 44,
   "id": "4d1fc260-9b31-4fb1-a9ef-e374ed5672be",
   "metadata": {},
   "outputs": [
    {
     "name": "stderr",
     "output_type": "stream",
     "text": [
      "IOPub data rate exceeded.\n",
      "The Jupyter server will temporarily stop sending output\n",
      "to the client in order to avoid crashing it.\n",
      "To change this limit, set the config variable\n",
      "`--ServerApp.iopub_data_rate_limit`.\n",
      "\n",
      "Current values:\n",
      "ServerApp.iopub_data_rate_limit=1000000.0 (bytes/sec)\n",
      "ServerApp.rate_limit_window=3.0 (secs)\n",
      "\n"
     ]
    }
   ],
   "source": [
    "with open(\"data.json\", \"r\") as json_son_file:\n",
    "    monitor_dict = json.load(json_son_file)\n",
    "\n",
    "print(monitor_dict.keys())\n",
    "# print(list(monitor_dict[\"data\"].keys()))\n",
    "print(list(monitor_dict[\"data\"][\"x\"]))"
   ]
  }
 ],
 "metadata": {
  "kernelspec": {
   "display_name": "Python 3 (ipykernel)",
   "language": "python",
   "name": "python3"
  },
  "language_info": {
   "codemirror_mode": {
    "name": "ipython",
    "version": 3
   },
   "file_extension": ".py",
   "mimetype": "text/x-python",
   "name": "python",
   "nbconvert_exporter": "python",
   "pygments_lexer": "ipython3",
   "version": "3.13.2"
  }
 },
 "nbformat": 4,
 "nbformat_minor": 5
}
