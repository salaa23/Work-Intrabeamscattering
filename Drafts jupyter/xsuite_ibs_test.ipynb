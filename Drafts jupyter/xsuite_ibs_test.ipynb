{
 "cells": [
  {
   "cell_type": "code",
   "execution_count": 4,
   "id": "0acfd101-612e-4f4f-8943-87a78a9190e1",
   "metadata": {},
   "outputs": [],
   "source": [
    "import json, sys, os, warnings, random, string, shutil\n",
    "import numpy as np\n",
    "from astropy.io import ascii\n",
    "if not sys.warnoptions:\n",
    "    warnings.simplefilter(\"ignore\")\n",
    "from tqdm import tqdm\n",
    "import scipy.constants as cons\n",
    "import xtrack as xt\n",
    "import xpart as xp\n",
    "import xfields as xf\n",
    "import xobjects as xo\n",
    "import xcoll as xc\n",
    "import xwakes as xw\n",
    "import time\n",
    "from scipy.constants import electron_mass"
   ]
  },
  {
   "cell_type": "code",
   "execution_count": 6,
   "id": "0041eb8d-6523-4c29-b3cb-9a49dba832b9",
   "metadata": {},
   "outputs": [],
   "source": [
    "C = 90658.74531999999\n",
    "Np = 2500000000000.0\n",
    "Nb = 1120\n",
    "Etot = 20000000000.0\n",
    "epsnx = 9.999999999999999e-06\n",
    "epsny = 9.999999999999999e-06\n",
    "sigmaz = 0.004\n",
    "sigmae = 0.001\n",
    "Qx = 414.225\n",
    "Qy = 410.29\n",
    "chix = 2.057246532\n",
    "chiy = 1.778971585\n",
    "alpha = 7.120435962e-06\n",
    "I2 = 0.0005936549319\n",
    "I3 = 5.681453654e-08\n",
    "I5 = 1.698280783e-11\n",
    "I6 = 0\n",
    "dpt = 0.03\n",
    "damp_xy = 9.045401802006868\n",
    "damp_s = 4.522700901003434\n",
    "coupling = 0.002\n",
    "Cq = 3.8319e-13\n",
    "Cgamma = 8.846e-05\n",
    "Erest = 510998.9499961642\n",
    "Egain = 0\n",
    "freq = 800000000.0\n",
    "Vtot = 50084569.672473334\n",
    "Qs = 0.026196452787125228\n",
    "phi_s = 178.47\n",
    "lambdaRF = 0.3747405725\n",
    "frev = 3306.823373098939\n",
    "h = 241924.01883572395\n",
    "U0 = 1337276.2433950102\n",
    "gamma = 39139.023671477466\n",
    "sig_e_eq = 0.00016759643162360863\n",
    "emit_eq = 1.6792275775376196e-11\n",
    "epsnx_eq = 6.572332790704266e-07\n",
    "epsny_eq = 1.3144665581408531e-09\n",
    "eta = -7.119783162182757e-06\n",
    "mass = electron_mass\n",
    "q0 = -1"
   ]
  },
  {
   "cell_type": "code",
   "execution_count": 25,
   "id": "6c232cb7-6caf-49bb-8104-6b07b0ebd2df",
   "metadata": {},
   "outputs": [
    {
     "data": {
      "application/vnd.jupyter.widget-view+json": {
       "model_id": "c406b81c38404e1db2be6f826d4275a8",
       "version_major": 2,
       "version_minor": 0
      },
      "text/plain": [
       "Loading line from dict:   0%|          | 0/34804 [00:00<?, ?it/s]"
      ]
     },
     "metadata": {},
     "output_type": "display_data"
    },
    {
     "name": "stdout",
     "output_type": "stream",
     "text": [
      "Done loading line from dict.           \n"
     ]
    },
    {
     "data": {
      "application/vnd.jupyter.widget-view+json": {
       "model_id": "00e0d8cf1d0e4129b4a4a8f5eafc4680",
       "version_major": 2,
       "version_minor": 0
      },
      "text/plain": [
       "Slicing line:   0%|          | 0/34804 [00:00<?, ?it/s]"
      ]
     },
     "metadata": {},
     "output_type": "display_data"
    },
    {
     "name": "stdout",
     "output_type": "stream",
     "text": [
      "The line has collective elements.\n",
      "In the twiss computation collective elements are replaced by drifts\n",
      "Compiling ContextCpu kernels...\n",
      "Done compiling ContextCpu kernels.\n"
     ]
    },
    {
     "name": "stderr",
     "output_type": "stream",
     "text": [
      "Ignoring collective elements in particles generation.\n",
      "Ignoring collective elements in particles generation.\n"
     ]
    },
    {
     "name": "stdout",
     "output_type": "stream",
     "text": [
      "Compiling ContextCpu kernels...\n",
      "Done compiling ContextCpu kernels.\n"
     ]
    },
    {
     "data": {
      "application/vnd.jupyter.widget-view+json": {
       "model_id": "ffef30d710fd42879ac1c3f996618d95",
       "version_major": 2,
       "version_minor": 0
      },
      "text/plain": [
       "Tracking:   0%|          | 0/100 [00:00<?, ?it/s]"
      ]
     },
     "metadata": {},
     "output_type": "display_data"
    },
    {
     "name": "stdout",
     "output_type": "stream",
     "text": [
      "Compiling ContextCpu kernels...\n",
      "Done compiling ContextCpu kernels.\n",
      "Compiling ContextCpu kernels...\n",
      "Done compiling ContextCpu kernels.\n"
     ]
    }
   ],
   "source": [
    "context = xo.ContextCpu(omp_num_threads=\"auto\")\n",
    "\n",
    "\n",
    "\n",
    "line = xt.Line.from_json(\"heb_ring_withcav.json\")\n",
    "particle_ref = xp.Particles(mass0=xp.ELECTRON_MASS_EV, q0=q0, gamma0=gamma)\n",
    "line.particle_ref = particle_ref\n",
    "\n",
    "line.slice_thick_elements( slicing_strategies=[\n",
    "xt.Strategy(slicing=xt.Teapot(2)), \n",
    "xt.Strategy(slicing=xt.Teapot(3), element_type=xt.Bend), \n",
    "xt.Strategy(slicing=xt.Teapot(5), element_type=xt.Quadrupole), \n",
    "xt.Strategy(slicing=xt.Teapot(3), element_type=xt.Sextupole)])\n",
    "\n",
    "line.build_tracker()\n",
    "\n",
    "line.configure_radiation(model='mean')\n",
    "\n",
    "tw = line.twiss(method=\"6d\",particle_ref=particle_ref ,eneloss_and_damping=True)\n",
    "C =  tw.s[-1] # circumference\n",
    "qx =  tw.qx # horizontal tune\n",
    "qy =  tw.qy # vertical tune\n",
    "dqx =  tw.dqx # horizontal chromaticity\n",
    "dqy =  tw.dqy # vertical chromaticity\n",
    "eneloss_turn = tw.eneloss_turn\n",
    "\n",
    "ibs_kick = xf.IBSAnalyticalKick(formalism=\"B&M\", num_slices=50)\n",
    "ibs_kick = xf.IBSKineticKick(num_slices=50)\n",
    "\n",
    "line.configure_intrabeam_scattering(element=ibs_kick,index=-1, name=\"ibskick\", update_every=1)\n",
    "\n",
    "\n",
    "\n",
    "n_macroparticles = 10\n",
    "n_turns = 100\n",
    "\n",
    "rng = np.random.RandomState(42)\n",
    "x_norm = rng.randn(n_macroparticles)\n",
    "px_norm = rng.randn(n_macroparticles)\n",
    "y_norm = rng.randn(n_macroparticles)\n",
    "py_norm = rng.randn(n_macroparticles)\n",
    "zeta = sigmaz * (rng.randn(n_macroparticles))\n",
    "delta = sigmae * (rng.randn(n_macroparticles))\n",
    "\n",
    "particles = xp.generate_matched_gaussian_bunch(\n",
    "                num_particles=n_macroparticles,\n",
    "                nemitt_x=epsnx,\n",
    "                nemitt_y=epsny,\n",
    "                sigma_z=sigmaz,\n",
    "                total_intensity_particles=Np,\n",
    "                line=line, _context = context)\n",
    "\n",
    "emit_mon = xc.EmittanceMonitor.install(line=line, name=\"EmittanceMonitor\", at=0, stop_at_turn=n_turns)\n",
    "\n",
    "line.build_tracker()\n",
    "line.configure_radiation(model='quantum')\n",
    "\n",
    "\n",
    "\n",
    "monitor = xt.ParticlesMonitor(_context= context,start_at_turn=0, stop_at_turn=n_turns,num_particles=n_macroparticles)\n",
    "line.track(particles, num_turns=n_turns, turn_by_turn_monitor=monitor, with_progress=5)"
   ]
  },
  {
   "cell_type": "code",
   "execution_count": 24,
   "id": "a57456b1-d848-47a8-bdc9-f65529883242",
   "metadata": {},
   "outputs": [
    {
     "data": {
      "text/plain": [
       "[<matplotlib.lines.Line2D at 0x78532ebe8550>]"
      ]
     },
     "execution_count": 24,
     "metadata": {},
     "output_type": "execute_result"
    },
    {
     "data": {
      "image/png": "[encoded data removed]",
      "text/plain": [
       "<Figure size 640x480 with 1 Axes>"
      ]
     },
     "metadata": {},
     "output_type": "display_data"
    }
   ],
   "source": [
    "import matplotlib.pyplot as plt\n",
    "exmitxx = np.array(emit_mon.gemitt_x.tolist())\n",
    "plt.plot(exmitxx*1e12)"
   ]
  },
  {
   "cell_type": "code",
   "execution_count": null,
   "id": "7d55fa68-657d-4f9a-90a9-486ec4396d9f",
   "metadata": {},
   "outputs": [],
   "source": []
  }
 ],
 "metadata": {
  "kernelspec": {
   "display_name": "Python 3 (ipykernel)",
   "language": "python",
   "name": "python3"
  },
  "language_info": {
   "codemirror_mode": {
    "name": "ipython",
    "version": 3
   },
   "file_extension": ".py",
   "mimetype": "text/x-python",
   "name": "python",
   "nbconvert_exporter": "python",
   "pygments_lexer": "ipython3",
   "version": "3.13.2"
  }
 },
 "nbformat": 4,
 "nbformat_minor": 5
}
