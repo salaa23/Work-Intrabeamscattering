{
 "cells": [
  {
   "cell_type": "code",
   "execution_count": 1,
   "id": "35088f6b-cb43-42d6-a1fb-ecec2ba2dd1d",
   "metadata": {},
   "outputs": [
    {
     "name": "stdout",
     "output_type": "stream",
     "text": [
      "mbtrack2 version 0.8.0\n",
      "--------------------------------------------------\n",
      "If used in a publication, please cite mbtrack2 paper and the zenodo archive for the corresponding code version (and other papers for more specific features).\n",
      "[1] A. Gamelin, W. Foosang, N. Yamamoto, V. Gubaidulin and R. Nagaoka, “mbtrack2”. Zenodo, Dec. 16, 2024. doi: 10.5281/zenodo.14418989.\n",
      "[2] A. Gamelin, W. Foosang, and R. Nagaoka, “mbtrack2, a Collective Effect Library in Python”, presented at the 12th Int. Particle Accelerator Conf. (IPAC'21), Campinas, Brazil, May 2021, paper MOPAB070.\n",
      "\n",
      "\n"
     ]
    }
   ],
   "source": [
    "import numpy as np\n",
    "from scipy.constants import c, m_e, elementary_charge\n",
    "import h5py as hp\n",
    "import matplotlib.pyplot as plt\n",
    "from mbtrack2 import Synchrotron, Electron\n",
    "from mbtrack2.utilities import Optics\n",
    "from mbtrack2.impedance.wakefield import WakeField\n",
    "from mbtrack2.tracking import LongitudinalMap, SynchrotronRadiation, TransverseMap\n",
    "from mbtrack2.tracking import IntrabeamScattering\n",
    "from mbtrack2.tracking import Beam, Bunch, WakePotential\n",
    "from mbtrack2.tracking import RFCavity, SynchrotronRadiation\n",
    "from mbtrack2.tracking.monitors import BunchMonitor, WakePotentialMonitor\n",
    "from mbtrack2.tracking.feedback import FIRDamper, ExponentialDamper\n",
    "import at\n",
    "# from tqdm import tqdm\n",
    "from tqdm.notebook import trange\n",
    "import time\n",
    "import argparse"
   ]
  },
  {
   "cell_type": "code",
   "execution_count": null,
   "id": "22986532-f166-4709-8912-b89a96de7627",
   "metadata": {},
   "outputs": [],
   "source": [
    "Synchrotron("
   ]
  },
  {
   "cell_type": "code",
   "execution_count": 2,
   "id": "5a066fee-cec9-4a74-9edd-8f44d28141c9",
   "metadata": {},
   "outputs": [],
   "source": [
    "\n",
    "def v24(IDs=\"close\", lat=\"V004\", load_lattice=True):\n",
    "    \"\"\"\n",
    "    TDR lattice using V2366_V004_Physical_Aperture.m\n",
    "\n",
    "    Returns\n",
    "    -------\n",
    "    ring : Synchrotron object\n",
    "\n",
    "    \"\"\"    \n",
    "    \n",
    "    h = 1120\n",
    "    particle = Electron()\n",
    "    tau = np.array([9.045401802006868, 9.045401802006868, 4.522700901003434])\n",
    "    sigma_0 = 0.004/c\n",
    "    sigma_delta = 0.001\n",
    "    # emit = np.array([6.572332790704266e-07, 1.3144665581408531e-09])    \n",
    "    # emit = np.array([9.999999999999999e-06/39139.023671477466, 9.999999999999999e-06/39139.023671477466])\n",
    "    emit = np.array([1.6792275775376196e-11, 1.6792275775376196e-11]) \n",
    "    # E0 = 45600000000.0\n",
    "    # E0 = 20000000000.0 #at injection eV\n",
    "    # tune = np.array([414.225, 410.29])\n",
    "    # chro = np.array([2.057246532, 1.778971585])\n",
    "    # ac = -7.119783162182757e-06\n",
    "    # U0= 1337276.2433950102\n",
    "    \n",
    "    if load_lattice:\n",
    "        if IDs==\"close\":\n",
    "            lattice_file = \"V24_1FODO_02.mat\"\n",
    "        else:\n",
    "            lattice_file = \"V24_1FODO_02.mat\"\n",
    "    \n",
    "        # mean values\n",
    "        # alpha = np.array([0, 0])\n",
    "        optics = Optics(lattice_file=lattice_file, n_points=1e4)\n",
    "        \n",
    "        # ring = Synchrotron(h, optics, particle, tau=tau,emit=emit, \n",
    "                           # sigma_0=sigma_0, sigma_delta=sigma_delta, E0=E0, ac=ac, tune=tune, chro=chro, U0=U0)\n",
    "        ring = Synchrotron(h, optics, particle, tau=tau,emit=emit, \n",
    "                   sigma_0=sigma_0, sigma_delta=sigma_delta)\n",
    "\n",
    "    \n",
    "    return ring"
   ]
  },
  {
   "cell_type": "code",
   "execution_count": 3,
   "id": "9e451d98-06f9-4221-8adf-46d1f84f3e56",
   "metadata": {
    "jupyter": {
     "source_hidden": true
    }
   },
   "outputs": [],
   "source": [
    "def v3588(IDs=\"close\", lat=\"V004\", load_lattice=True):\n",
    "    \"\"\"\n",
    "    TDR lattice using V2366_V004_Physical_Aperture.m\n",
    "\n",
    "    Returns\n",
    "    -------\n",
    "    ring : Synchrotron object\n",
    "\n",
    "    \"\"\"    \n",
    "    \n",
    "    h = 416\n",
    "    particle = Electron()\n",
    "    tau = np.array([7.68e-3, 14.14e-3, 12.18e-3])\n",
    "    sigma_0 = 9e-12\n",
    "    sigma_delta = 9.07649e-4\n",
    "    emit = np.array([84.4e-12, 84.4e-13])\n",
    "    # [84.4e-12, 84.4e-13]\n",
    "    \n",
    "    if load_lattice:\n",
    "        if IDs==\"close\":\n",
    "            lattice_file = \"V3588_RING_for_Salah.mat\"\n",
    "        else:\n",
    "            lattice_file = \"V3588_RING_for_Salah.mat\"\n",
    "    \n",
    "        # mean values\n",
    "        alpha = np.array([0, 0])\n",
    "        optics = Optics(lattice_file=lattice_file, local_alpha=alpha, n_points=1e4)\n",
    "        \n",
    "        ring = Synchrotron(h, optics, particle, tau=tau, emit=emit, \n",
    "                           sigma_0=sigma_0, sigma_delta=sigma_delta)\n",
    "    else:\n",
    "        L = 353.97\n",
    "        E0 = 2.75e9\n",
    "        particle = Electron()\n",
    "        ac = 1.0695e-4\n",
    "        U0 = 452.6e3\n",
    "        tune = np.array([54.2, 18.3])\n",
    "        chro = np.array([1.6, 1.6])\n",
    "        \n",
    "        beta = np.array([3.288, 4.003])\n",
    "        alpha = np.array([0, 0])\n",
    "        dispersion = np.array([0, 0, 0, 0])\n",
    "        \n",
    "        optics = Optics(local_beta=beta, local_alpha=alpha, \n",
    "                      local_dispersion=dispersion)\n",
    "        ring = Synchrotron(h, optics, particle, L=L, E0=E0, ac=ac, U0=U0, tau=tau,\n",
    "                       emit=emit, tune=tune, sigma_delta=sigma_delta, \n",
    "                       sigma_0=sigma_0, chro=chro)\n",
    "    \n",
    "    return ring"
   ]
  },
  {
   "cell_type": "code",
   "execution_count": 2,
   "id": "984ef3e8-84ce-4d73-b0cd-4983379fa039",
   "metadata": {
    "jupyter": {
     "source_hidden": true
    }
   },
   "outputs": [
    {
     "data": {
      "application/vnd.jupyter.widget-view+json": {
       "model_id": "5f81bed8ea574e8089dbc460afcb5990",
       "version_major": 2,
       "version_minor": 0
      },
      "text/plain": [
       "  0%|          | 0/100 [00:00<?, ?it/s]"
      ]
     },
     "metadata": {},
     "output_type": "display_data"
    }
   ],
   "source": [
    "#test_run mbtrack2 with SOLEIL parameters\n",
    "def v2366(IDs=\"close\", lat=\"V004\", load_lattice=True):\n",
    "    \"\"\"\n",
    "    TDR lattice using V2366_V004_Physical_Aperture.m\n",
    "\n",
    "    Returns\n",
    "    -------\n",
    "    ring : Synchrotron object\n",
    "\n",
    "    \"\"\"    \n",
    "    \n",
    "    h = 416\n",
    "    particle = Electron()\n",
    "    tau = np.array([7.68e-3, 14.14e-3, 12.18e-3])\n",
    "    sigma_0 = 9e-12\n",
    "    sigma_delta = 9.07649e-4\n",
    "    emit = np.array([84.4e-12, 84.4e-13])\n",
    "    \n",
    "    if load_lattice:\n",
    "        if IDs==\"close\":\n",
    "            lattice_file = \"V3588_RING_for_Salah.mat\"\n",
    "        else:\n",
    "            lattice_file = \"V3588_RING_for_Salah.mat\"\n",
    "    \n",
    "        # mean values\n",
    "        alpha = np.array([0, 0])\n",
    "        optics = Optics(lattice_file=lattice_file, local_alpha=alpha, n_points=1e4)\n",
    "        \n",
    "        ring = Synchrotron(h, optics, particle, tau=tau, emit=emit, \n",
    "                           sigma_0=sigma_0, sigma_delta=sigma_delta)\n",
    "    else:\n",
    "        L = 353.97\n",
    "        E0 = 2.75e9\n",
    "        particle = Electron()\n",
    "        ac = 1.0695e-4\n",
    "        U0 = 452.6e3\n",
    "        tune = np.array([54.2, 18.3])\n",
    "        chro = np.array([1.6, 1.6])\n",
    "        \n",
    "        beta = np.array([3.288, 4.003])\n",
    "        alpha = np.array([0, 0])\n",
    "        dispersion = np.array([0, 0, 0, 0])\n",
    "        \n",
    "        optics = Optics(local_beta=beta, local_alpha=alpha, \n",
    "                      local_dispersion=dispersion)\n",
    "        ring = Synchrotron(h, optics, particle, L=L, E0=E0, ac=ac, U0=U0, tau=tau,\n",
    "                       emit=emit, tune=tune, sigma_delta=sigma_delta, \n",
    "                       sigma_0=sigma_0, chro=chro)\n",
    "    \n",
    "    return ring\n",
    "    \n",
    "def model_ring():\n",
    "    h = 416 # Harmonic number of the accelerator.\n",
    "    L = 353.97 # Ring circumference in [m].\n",
    "    E0 = 2.75e9 # Nominal (total) energy of the ring in [eV].\n",
    "    particle = Electron() # Particle considered.\n",
    "    ac = 1.0695e-4\n",
    "    U0 = 452.6e3# Energy loss per turn in [eV].\n",
    "    tau = np.array([7.68e-3, 14.14e-3, 12.18e-3]) #horizontal, vertical and longitudinal damping times in [s].\n",
    "    tune = np.array([54.2, 18.3])\n",
    "    emit = np.array([84.4e-12, 84.4e-13])\n",
    "    sigma_0 = 9e-12\n",
    "    sigma_delta = 9.07649e-4\n",
    "    chro = np.array([1.6, 1.6])\n",
    "    beta = np.array([3.288, 4.003])\n",
    "    alpha = np.array([0, 0])\n",
    "    dispersion = np.array([0, 0, 0, 0])\n",
    "    optics = Optics(local_beta=beta, local_alpha=alpha, \n",
    "                      local_dispersion=dispersion)\n",
    "    ring3 = Synchrotron(h=h, optics=optics, particle=particle, L=L, E0=E0, ac=ac,\n",
    "                       U0=U0, tau=tau, emit=emit, tune=tune,\n",
    "                       sigma_delta=sigma_delta, sigma_0=sigma_0, chro=chro)\n",
    "    return ring3\n",
    "#Particles number\n",
    "def run_mbtrack2(\n",
    "    n_turns=900,\n",
    "    n_macroparticles=9000,\n",
    "    bunch_current=1.2e-2, modelname=\"PS\"\n",
    "):\n",
    "    # ring\n",
    "    ring3 = model_ring()\n",
    "    ring = v2366(IDs=\"open\")\n",
    "    ring2 = ring\n",
    "    # ring2.emit[1] = .3*ring2.emit[0]\n",
    "    # ring2.tau[0] = ring2.tau[0]/1\n",
    "    # ring2.tau[1] = ring2.tau[1]/1\n",
    "    # ring2.tau[2] = ring2.tau[2]/1\n",
    "\n",
    "    particle = Electron()\n",
    "    # bunch\n",
    "    mybunch = Bunch(\n",
    "        ring2, mp_number=n_macroparticles, current=bunch_current, track_alive=True\n",
    "    )\n",
    "    np.random.seed(42)\n",
    "    mybunch.init_gaussian()\n",
    "    # offset \n",
    "    # mybunch['x'] = +1e-3\n",
    "    # mybunch['y'] = +1e-3\n",
    "    #Tracking elements\n",
    "    long_map = LongitudinalMap(ring)\n",
    "    sr = SynchrotronRadiation(ring, switch=[1, 1, 1])\n",
    "    trans_map = TransverseMap(ring)\n",
    "    V_rf  = 1.8e6 #1.8e6\n",
    "    rf = RFCavity(ring2, m=1, Vc=V_rf, theta=np.arccos(ring.U0 / V_rf))\n",
    "    # thetas = ((ring.U0/(V_rf * (2 * np.pi * ring.f0)**2)) - np.sqrt(2) / 2) * 1 / 0.5 * 4\n",
    "    rf2 = RFCavity(ring2, m=2, Vc= 0.5*V_rf, theta=np.arccos(np.sqrt(2) / 2))\n",
    "    ibs = IntrabeamScattering(ring,model=modelname)    \n",
    "\n",
    "    \n",
    "\n",
    "    tracking_elements = [trans_map, long_map, rf, sr, ibs]\n",
    "    # ---------------------------------------\n",
    "    temps = time.strftime(\"%y%m%d_%H%M%S\", time.localtime())\n",
    "    monitor = BunchMonitor(1, 1,buffer_size=10, total_size=n_turns, file_name=modelname+\"_\"+temps)\n",
    "    ###--------------------------------------------------------------------------------------------------------------\n",
    "    # emittance\n",
    "    emit = []\n",
    "\n",
    "    for i in trange(n_turns):\n",
    "        for el in tracking_elements:\n",
    "            el.track(mybunch)\n",
    "        monitor.track(mybunch)\n",
    "        # stdx = np.std(mybunch[\"x\"])\n",
    "        # emitxx = stdx**2/ring2.optics.local_beta[0]\n",
    "        # emitx.append(emitxx)\n",
    "        emit.append(mybunch.emit)\n",
    "    return mybunch, emit\n",
    "\n",
    "\n",
    "bunch, emitx = run_mbtrack2(n_turns=100,\n",
    "    n_macroparticles=1e4,\n",
    "    bunch_current=6e-3, modelname=\"CIMP\")"
   ]
  },
  {
   "cell_type": "code",
   "execution_count": 3,
   "id": "2cce8549-b625-4de2-8db1-9fd2ab5c532c",
   "metadata": {
    "scrolled": true
   },
   "outputs": [
    {
     "data": {
      "application/vnd.jupyter.widget-view+json": {
       "model_id": "91f9000fde754f6ba62eaf7a7c208ff7",
       "version_major": 2,
       "version_minor": 0
      },
      "text/plain": [
       "  0%|          | 0/4000 [00:00<?, ?it/s]"
      ]
     },
     "metadata": {},
     "output_type": "display_data"
    }
   ],
   "source": [
    "#Fcc cell\n",
    "def run_mbtrack2(\n",
    "    n_turns=900,\n",
    "    n_macroparticles=9000,\n",
    "    bunch_current=1.2e-2, modelname=\"PS\"\n",
    "):\n",
    "    # ring\n",
    "    ring1 = v24(IDs=\"open\", load_lattice=True)\n",
    "    # ring2 = v3588(IDs=\"open\", load_lattice=True)\n",
    "    ring1.f1 = 800000000.0 #RF freq Hz\n",
    "    ring1.f0 = 3306.823373098939\n",
    "    ring1.chro = np.array([2.057246532, 1.778971585])\n",
    "    ring1.ac = 7.119783162182757e-06\n",
    "    ring1.U0= 1337276.2433950102\n",
    "    ring1.tune = np.array([414.225, 410.29])\n",
    "    # ring1.gamma = 39139.023671477466 #gamma is correct in at\n",
    "    ring1.emit[1] = 0.002*ring1.emit[0]\n",
    "    ring1.tau[0] = ring1.tau[0]/1\n",
    "    ring1.tau[1] = ring1.tau[1]/1\n",
    "    ring1.tau[2] = ring1.tau[2]/1\n",
    "    ring1.L = 90658.71376109403\n",
    "    # ring1.L = 90658.74531999999\n",
    "    # ring1.E0 = 45600000000.0\n",
    "    ring = ring1\n",
    "\n",
    "    particle = Electron()\n",
    "    # bunch\n",
    "    mybunch = Bunch(\n",
    "        ring, mp_number=n_macroparticles, current=bunch_current, track_alive=True\n",
    "    )\n",
    "    np.random.seed(42)\n",
    "    mybunch.init_gaussian()\n",
    "    # offset \n",
    "    # mybunch['x'] = +1e-3\n",
    "    # mybunch['y'] = +1e-3\n",
    "    #Tracking elements\n",
    "    long_map = LongitudinalMap(ring)\n",
    "    sr = SynchrotronRadiation(ring, switch=[1, 1, 1])\n",
    "    trans_map = TransverseMap(ring)\n",
    "    V_rf  = 50084569.672473334\n",
    "    # V_rf = 1.8e6\n",
    "    # theta = np.arccos(ring.U0 / V_rf)\n",
    "    theta = -2.458296251434013\n",
    "    \n",
    "    rf = RFCavity(ring, m=1, Vc=V_rf, theta=theta)\n",
    "    # thetas = ((ring.U0/(V_rf * (2 * np.pi * ring.f0)**2)) - np.sqrt(2) / 2) * 1 / 0.5 * 4\n",
    "    rf2 = RFCavity(ring, m=2, Vc= 0.5*V_rf, theta=np.arccos(np.sqrt(2) / 2))\n",
    "    ibs = IntrabeamScattering(ring,model=modelname)    \n",
    "\n",
    "    tracking_elements = [trans_map, long_map, rf, sr, ibs]\n",
    "\n",
    "\n",
    "    ##ibs track-------------------------------------------------------------------------------------\n",
    "    temps = time.strftime(\"%y%m%d_%H%M%S\", time.localtime())\n",
    "    monitor = BunchMonitor(1, 1,buffer_size=10, total_size=n_turns, file_name=modelname+\"_\"+temps)\n",
    "    ###--------------------------------------------------------------------------------------------------------------\n",
    "    # emittance\n",
    "    # emit = []\n",
    "\n",
    "    for i in trange(n_turns):\n",
    "        for el in tracking_elements:\n",
    "            el.track(mybunch)\n",
    "        monitor.track(mybunch)\n",
    "        # stdx = np.std(mybunch[\"x\"])\n",
    "        # emitxx = stdx**2/ring.optics.local_beta[0]\n",
    "        # emitx.append(emitxx)\n",
    "        # emit.append(mybunch.emit)\n",
    "    return mybunch, ring\n",
    "\n",
    "bunch, ring = run_mbtrack2(n_turns=4000,\n",
    "    n_macroparticles=1e4,\n",
    "    bunch_current=1.3e-3, modelname=\"CIMP\")"
   ]
  },
  {
   "cell_type": "code",
   "execution_count": 4,
   "id": "4a7e8431-2d6c-4e91-b941-de16d9bb2285",
   "metadata": {},
   "outputs": [
    {
     "name": "stdout",
     "output_type": "stream",
     "text": [
      "Keys: <KeysViewHDF5 ['BunchData_1']>\n",
      "<HDF5 group \"/BunchData_1\" (6 members)>\n"
     ]
    },
    {
     "data": {
      "application/vnd.jupyter.widget-view+json": {
       "model_id": "8f3d3cb2462d4077abd713d510342d2e",
       "version_major": 2,
       "version_minor": 0
      },
      "image/png": "[encoded data removed]",
      "text/html": [
       "\n",
       "            <div style=\"display: inline-block;\">\n",
       "                <div class=\"jupyter-widgets widget-label\" style=\"text-align: center;\">\n",
       "                    Figure\n",
       "                </div>\n",
       "                <img src='data:image/png;base64,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' width=640.0/>\n",
       "            </div>\n",
       "        "
      ],
      "text/plain": [
       "Canvas(toolbar=Toolbar(toolitems=[('Home', 'Reset original view', 'home', 'home'), ('Back', 'Back to previous …"
      ]
     },
     "metadata": {},
     "output_type": "display_data"
    }
   ],
   "source": [
    "import h5py\n",
    "import numpy as np\n",
    "import matplotlib.pyplot as plt\n",
    "\n",
    "%matplotlib ipympl\n",
    "temps = time.strftime(\"%y%m%d_%H%M%S\", time.localtime())\n",
    "with h5py.File('CIMP_250417_165756.hdf5', 'r') as f:\n",
    "    print(\"Keys: %s\" % f.keys())\n",
    "    # print(f.keys())\n",
    "    group = f[\"BunchData_1\"]\n",
    "    print(group)\n",
    "    emit = group[\"emit\"][:]\n",
    "    current = f[\"BunchData_1\"][\"current\"][0]\n",
    "    emit = np.array(emit)\n",
    "\n",
    "# print(emit[0,:])\n",
    "\n",
    "\n",
    "plt.cla()\n",
    "plt.plot(emit[0,:]*1e12)\n",
    "plt.ylabel(r\"Emittance $\\epsilon_{x}$(pm)\")\n",
    "plt.title(f\"Emittance of V24 FODO using mbtrack2 at {current*1e3}mA\")\n",
    "plt.xlabel(\"Number of turns\")\n",
    "# plt.figure(figsize=(8,6))\n",
    "# plt.savefig(f\"figures/fig_{temps}_cpl.png\")\n",
    "plt.show()"
   ]
  },
  {
   "cell_type": "code",
   "execution_count": 5,
   "id": "84d98c0f-f2c5-4adf-8ac8-be8d8a457d67",
   "metadata": {},
   "outputs": [
    {
     "data": {
      "text/plain": [
       "np.float64(90658.71376109106)"
      ]
     },
     "execution_count": 5,
     "metadata": {},
     "output_type": "execute_result"
    }
   ],
   "source": [
    "ring.L\n"
   ]
  },
  {
   "cell_type": "code",
   "execution_count": 28,
   "id": "09ec44c3-7375-4907-89f1-d5dbf7ebfe6f",
   "metadata": {},
   "outputs": [
    {
     "name": "stdout",
     "output_type": "stream",
     "text": [
      "Keys: <KeysViewHDF5 ['BunchData_1']>\n",
      "<KeysViewHDF5 ['cs_invariant', 'current', 'emit', 'mean', 'std', 'time']>\n",
      "0.0013\n"
     ]
    }
   ],
   "source": [
    "# with h5py.File('CIMP_250415_155139.hdf5', 'r') as f:\n",
    "#     print(\"Keys: %s\" % f.keys())\n",
    "#     print(f[\"BunchData_1\"].keys())\n",
    "#     print(f[\"BunchData_1\"][\"current\"][0])\n",
    "\n",
    "plt.cla()\n",
    "plt.plot(emit[0,:]*1e12)\n",
    "plt.ylabel(r\"Emittance $\\epsilon_{x}$(pm)\")\n",
    "plt.title(f\"Emittance of V24 FODO using mbtrack2 at {current}mA\")\n",
    "plt.xlabel(\"Number of turns\")\n",
    "# plt.figure(figsize=(8,6))\n",
    "plt.savefig(f\"figures/fig_{temps}_cpl.png\")\n",
    "plt.show()"
   ]
  },
  {
   "cell_type": "code",
   "execution_count": 5,
   "id": "ccafd0bb-8947-4e72-bbbb-ecd2f036e57a",
   "metadata": {},
   "outputs": [],
   "source": [
    "ringer = v2366(IDs=\"open\")\n",
    "# emit.shape"
   ]
  },
  {
   "cell_type": "code",
   "execution_count": 9,
   "id": "b927300b-8ac5-4d4c-a1cc-b377ef933b2b",
   "metadata": {},
   "outputs": [
    {
     "data": {
      "text/plain": [
       "[<matplotlib.lines.Line2D at 0x79fe84272210>]"
      ]
     },
     "execution_count": 9,
     "metadata": {},
     "output_type": "execute_result"
    }
   ],
   "source": [
    "%matplotlib ipympl\n",
    "x = np.linspace(0, ring.L, 1000)\n",
    "\n",
    "betax = ring.optics.betaX(x)\n",
    "\n",
    "plt.plot(x, betax)"
   ]
  },
  {
   "cell_type": "code",
   "execution_count": 6,
   "id": "7a06f5a8-f746-49c0-8eb3-879def3b239e",
   "metadata": {},
   "outputs": [
    {
     "data": {
      "text/plain": [
       "np.float64(352337309.5151137)"
      ]
     },
     "execution_count": 6,
     "metadata": {},
     "output_type": "execute_result"
    }
   ],
   "source": [
    "ringer.f1"
   ]
  },
  {
   "cell_type": "code",
   "execution_count": 7,
   "id": "8a41ea93-77d1-4f01-9878-42ffbd8d0917",
   "metadata": {},
   "outputs": [
    {
     "data": {
      "text/plain": [
       "np.float64(7.084120621330149e-09)"
      ]
     },
     "execution_count": 7,
     "metadata": {},
     "output_type": "execute_result"
    }
   ],
   "source": [
    "bunch.charge"
   ]
  },
  {
   "cell_type": "code",
   "execution_count": 5,
   "id": "fc3e83b9-e8a1-40fe-b5a9-ba9997fc5e59",
   "metadata": {},
   "outputs": [
    {
     "data": {
      "text/plain": [
       "np.float64(0.013245292463634378)"
      ]
     },
     "execution_count": 5,
     "metadata": {},
     "output_type": "execute_result"
    }
   ],
   "source": [
    "25000000000000.0*elementary_charge/(ringer.T0)"
   ]
  },
  {
   "cell_type": "code",
   "execution_count": 8,
   "id": "71458e27-62db-4948-be66-53e9658b5c97",
   "metadata": {},
   "outputs": [
    {
     "data": {
      "text/plain": [
       "8849250000.000002"
      ]
     },
     "execution_count": 8,
     "metadata": {},
     "output_type": "execute_result"
    }
   ],
   "source": [
    "# pour Soleil\n",
    "Soleil_T0 = (353.97/3e8)\n",
    "(1.2e-3 * Soleil_T0) / 1.6e-19"
   ]
  },
  {
   "cell_type": "code",
   "execution_count": 6,
   "id": "902fcf2e-583d-44c5-b45c-2080ba5b69c8",
   "metadata": {},
   "outputs": [
    {
     "data": {
      "text/plain": [
       "np.float64(0.006)"
      ]
     },
     "execution_count": 6,
     "metadata": {},
     "output_type": "execute_result"
    }
   ],
   "source": [
    "bunch.charge /ringer.T0"
   ]
  },
  {
   "cell_type": "code",
   "execution_count": 6,
   "id": "f54ad279-718c-407d-9baf-5f0df2482652",
   "metadata": {},
   "outputs": [],
   "source": [
    "ring_f = v24()"
   ]
  },
  {
   "cell_type": "code",
   "execution_count": null,
   "id": "bbe086cf-59d6-4940-897b-69565ee7590e",
   "metadata": {},
   "outputs": [],
   "source": []
  },
  {
   "cell_type": "code",
   "execution_count": 11,
   "id": "7c08cbdb-956c-4c8b-be67-e463d0f7fd00",
   "metadata": {},
   "outputs": [
    {
     "data": {
      "text/plain": [
       "str"
      ]
     },
     "execution_count": 11,
     "metadata": {},
     "output_type": "execute_result"
    }
   ],
   "source": [
    "import os\n",
    "file = os.getcwd()\n",
    "type(file)"
   ]
  }
 ],
 "metadata": {
  "kernelspec": {
   "display_name": "Python 3 (ipykernel)",
   "language": "python",
   "name": "python3"
  },
  "language_info": {
   "codemirror_mode": {
    "name": "ipython",
    "version": 3
   },
   "file_extension": ".py",
   "mimetype": "text/x-python",
   "name": "python",
   "nbconvert_exporter": "python",
   "pygments_lexer": "ipython3",
   "version": "3.13.2"
  }
 },
 "nbformat": 4,
 "nbformat_minor": 5
}
