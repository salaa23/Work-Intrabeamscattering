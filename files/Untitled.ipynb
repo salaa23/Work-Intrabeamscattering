{
 "cells": [
  {
   "cell_type": "code",
   "execution_count": 2,
   "id": "74c7c289-0c64-4ee1-a4bc-e15ed63d9c76",
   "metadata": {},
   "outputs": [],
   "source": [
    "import at"
   ]
  },
  {
   "cell_type": "code",
   "execution_count": null,
   "id": "4993f5ce-6793-4f31-b751-98032fd57dbe",
   "metadata": {},
   "outputs": [],
   "source": []
  }
 ],
 "metadata": {
  "kernelspec": {
   "display_name": "Python 3 (ipykernel)",
   "language": "python",
   "name": "python3"
  },
  "language_info": {
   "codemirror_mode": {
    "name": "ipython",
    "version": 3
   },
   "file_extension": ".py",
   "mimetype": "text/x-python",
   "name": "python",
   "nbconvert_exporter": "python",
   "pygments_lexer": "ipython3",
   "version": "3.12.7"
  }
 },
 "nbformat": 4,
 "nbformat_minor": 5
}
